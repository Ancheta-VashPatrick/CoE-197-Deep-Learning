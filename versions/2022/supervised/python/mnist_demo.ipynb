{
 "cells": [
  {
   "cell_type": "markdown",
   "metadata": {},
   "source": [
    "### Image Recognition on MNIST using Pytorch Lightning\n",
    "\n",
    "Demonstrate the elements of machine learning:\n",
    "\n",
    "1) Experience (Datasets and Dataloaders)\n",
    "2) Task (Classifier Model)\n",
    "3) Performance (Accuracy)\n",
    "\n",
    "**Experience:** <br>\n",
    "We use MNIST dataset for this demo. MNIST is made of 28x28 images of handwritten digits. The train split has 60,000 images and the test split has 10,000 images. Images are all gray-scale.\n",
    "\n",
    "**Task:**<br>\n",
    "Our task is to classify the images into 10 classes. We use ResNet18 model from torchvision.models. The ResNet18 model is subclassed to accept a single channel input. The number of classes is set to 10.\n",
    "\n",
    "**Performance:**<br>\n",
    "We use accuracy metric to evaluate the performance of our model. We use the test split to evaluate the performance of our model. We use `torchmetrics` to calculate the accuracy.\n",
    "\n",
    "**[Pytorch Lightning](https://www.pytorchlightning.ai/):**<br>\n",
    "Our demo uses Pytorch Lightning to simplify the process of training and testing. We use the Pytorch Lightning Trainer to train our model. We use the Pytorch Lightning Evaluator to evaluate our model.\n",
    "\n",
    "Let us install `pytorch-lightning` and `torchmetrics`."
   ]
  },
  {
   "cell_type": "code",
   "execution_count": 11,
   "metadata": {},
   "outputs": [
    {
     "name": "stdout",
     "output_type": "stream",
     "text": [
      "Requirement already satisfied: pytorch-lightning in /home/rowel/anaconda3/lib/python3.7/site-packages (1.6.0)\n",
      "Requirement already satisfied: numpy>=1.17.2 in /home/rowel/anaconda3/lib/python3.7/site-packages (from pytorch-lightning) (1.21.5)\n",
      "Requirement already satisfied: fsspec[http]!=2021.06.0,>=2021.05.0 in /home/rowel/anaconda3/lib/python3.7/site-packages (from pytorch-lightning) (2022.1.0)\n",
      "Requirement already satisfied: tensorboard>=2.2.0 in /home/rowel/anaconda3/lib/python3.7/site-packages (from pytorch-lightning) (2.4.1)\n",
      "Requirement already satisfied: torch>=1.8.* in /home/rowel/anaconda3/lib/python3.7/site-packages (from pytorch-lightning) (1.11.0)\n",
      "Requirement already satisfied: tqdm>=4.41.0 in /home/rowel/anaconda3/lib/python3.7/site-packages (from pytorch-lightning) (4.62.3)\n",
      "Requirement already satisfied: PyYAML>=5.4 in /home/rowel/anaconda3/lib/python3.7/site-packages (from pytorch-lightning) (6.0)\n",
      "Requirement already satisfied: packaging>=17.0 in /home/rowel/anaconda3/lib/python3.7/site-packages (from pytorch-lightning) (21.3)\n",
      "Requirement already satisfied: pyDeprecate<0.4.0,>=0.3.1 in /home/rowel/anaconda3/lib/python3.7/site-packages (from pytorch-lightning) (0.3.2)\n",
      "Requirement already satisfied: torchmetrics>=0.4.1 in /home/rowel/anaconda3/lib/python3.7/site-packages (from pytorch-lightning) (0.7.3)\n",
      "Requirement already satisfied: typing-extensions>=4.0.0 in /home/rowel/anaconda3/lib/python3.7/site-packages (from pytorch-lightning) (4.1.1)\n",
      "Requirement already satisfied: aiohttp in /home/rowel/anaconda3/lib/python3.7/site-packages (from fsspec[http]!=2021.06.0,>=2021.05.0->pytorch-lightning) (3.7.4.post0)\n",
      "Requirement already satisfied: requests in /home/rowel/anaconda3/lib/python3.7/site-packages (from fsspec[http]!=2021.06.0,>=2021.05.0->pytorch-lightning) (2.27.1)\n",
      "Requirement already satisfied: pyparsing!=3.0.5,>=2.0.2 in /home/rowel/anaconda3/lib/python3.7/site-packages (from packaging>=17.0->pytorch-lightning) (3.0.4)\n",
      "Requirement already satisfied: protobuf>=3.6.0 in /home/rowel/anaconda3/lib/python3.7/site-packages (from tensorboard>=2.2.0->pytorch-lightning) (3.19.4)\n",
      "Requirement already satisfied: absl-py>=0.4 in /home/rowel/anaconda3/lib/python3.7/site-packages (from tensorboard>=2.2.0->pytorch-lightning) (0.12.0)\n",
      "Requirement already satisfied: six>=1.10.0 in /home/rowel/anaconda3/lib/python3.7/site-packages (from tensorboard>=2.2.0->pytorch-lightning) (1.16.0)\n",
      "Requirement already satisfied: wheel>=0.26 in /home/rowel/anaconda3/lib/python3.7/site-packages (from tensorboard>=2.2.0->pytorch-lightning) (0.37.1)\n",
      "Requirement already satisfied: werkzeug>=0.11.15 in /home/rowel/anaconda3/lib/python3.7/site-packages (from tensorboard>=2.2.0->pytorch-lightning) (2.0.3)\n",
      "Requirement already satisfied: markdown>=2.6.8 in /home/rowel/anaconda3/lib/python3.7/site-packages (from tensorboard>=2.2.0->pytorch-lightning) (3.1.1)\n",
      "Requirement already satisfied: google-auth-oauthlib<0.5,>=0.4.1 in /home/rowel/anaconda3/lib/python3.7/site-packages (from tensorboard>=2.2.0->pytorch-lightning) (0.4.1)\n",
      "Requirement already satisfied: tensorboard-plugin-wit>=1.6.0 in /home/rowel/anaconda3/lib/python3.7/site-packages (from tensorboard>=2.2.0->pytorch-lightning) (1.6.0.post3)\n",
      "Requirement already satisfied: grpcio>=1.24.3 in /home/rowel/anaconda3/lib/python3.7/site-packages (from tensorboard>=2.2.0->pytorch-lightning) (1.32.0)\n",
      "Requirement already satisfied: setuptools>=41.0.0 in /home/rowel/anaconda3/lib/python3.7/site-packages (from tensorboard>=2.2.0->pytorch-lightning) (58.0.4)\n",
      "Requirement already satisfied: google-auth<2,>=1.6.3 in /home/rowel/anaconda3/lib/python3.7/site-packages (from tensorboard>=2.2.0->pytorch-lightning) (1.15.0)\n",
      "Requirement already satisfied: rsa<4.1,>=3.1.4 in /home/rowel/anaconda3/lib/python3.7/site-packages (from google-auth<2,>=1.6.3->tensorboard>=2.2.0->pytorch-lightning) (4.0)\n",
      "Requirement already satisfied: pyasn1-modules>=0.2.1 in /home/rowel/anaconda3/lib/python3.7/site-packages (from google-auth<2,>=1.6.3->tensorboard>=2.2.0->pytorch-lightning) (0.2.8)\n",
      "Requirement already satisfied: cachetools<5.0,>=2.0.0 in /home/rowel/anaconda3/lib/python3.7/site-packages (from google-auth<2,>=1.6.3->tensorboard>=2.2.0->pytorch-lightning) (4.1.0)\n",
      "Requirement already satisfied: requests-oauthlib>=0.7.0 in /home/rowel/anaconda3/lib/python3.7/site-packages (from google-auth-oauthlib<0.5,>=0.4.1->tensorboard>=2.2.0->pytorch-lightning) (1.3.0)\n",
      "Requirement already satisfied: pyasn1<0.5.0,>=0.4.6 in /home/rowel/anaconda3/lib/python3.7/site-packages (from pyasn1-modules>=0.2.1->google-auth<2,>=1.6.3->tensorboard>=2.2.0->pytorch-lightning) (0.4.8)\n",
      "Requirement already satisfied: certifi>=2017.4.17 in /home/rowel/anaconda3/lib/python3.7/site-packages (from requests->fsspec[http]!=2021.06.0,>=2021.05.0->pytorch-lightning) (2021.10.8)\n",
      "Requirement already satisfied: urllib3<1.27,>=1.21.1 in /home/rowel/anaconda3/lib/python3.7/site-packages (from requests->fsspec[http]!=2021.06.0,>=2021.05.0->pytorch-lightning) (1.26.8)\n",
      "Requirement already satisfied: idna<4,>=2.5 in /home/rowel/anaconda3/lib/python3.7/site-packages (from requests->fsspec[http]!=2021.06.0,>=2021.05.0->pytorch-lightning) (3.3)\n",
      "Requirement already satisfied: charset-normalizer~=2.0.0 in /home/rowel/anaconda3/lib/python3.7/site-packages (from requests->fsspec[http]!=2021.06.0,>=2021.05.0->pytorch-lightning) (2.0.4)\n",
      "Requirement already satisfied: oauthlib>=3.0.0 in /home/rowel/anaconda3/lib/python3.7/site-packages (from requests-oauthlib>=0.7.0->google-auth-oauthlib<0.5,>=0.4.1->tensorboard>=2.2.0->pytorch-lightning) (3.1.0)\n",
      "Requirement already satisfied: yarl<2.0,>=1.0 in /home/rowel/anaconda3/lib/python3.7/site-packages (from aiohttp->fsspec[http]!=2021.06.0,>=2021.05.0->pytorch-lightning) (1.6.3)\n",
      "Requirement already satisfied: async-timeout<4.0,>=3.0 in /home/rowel/anaconda3/lib/python3.7/site-packages (from aiohttp->fsspec[http]!=2021.06.0,>=2021.05.0->pytorch-lightning) (3.0.1)\n",
      "Requirement already satisfied: attrs>=17.3.0 in /home/rowel/anaconda3/lib/python3.7/site-packages (from aiohttp->fsspec[http]!=2021.06.0,>=2021.05.0->pytorch-lightning) (21.4.0)\n",
      "Requirement already satisfied: chardet<5.0,>=2.0 in /home/rowel/anaconda3/lib/python3.7/site-packages (from aiohttp->fsspec[http]!=2021.06.0,>=2021.05.0->pytorch-lightning) (4.0.0)\n",
      "Requirement already satisfied: multidict<7.0,>=4.5 in /home/rowel/anaconda3/lib/python3.7/site-packages (from aiohttp->fsspec[http]!=2021.06.0,>=2021.05.0->pytorch-lightning) (5.1.0)\n",
      "Requirement already satisfied: lightning-bolts in /home/rowel/anaconda3/lib/python3.7/site-packages (0.5.0)\n",
      "Requirement already satisfied: pytorch-lightning>=1.4.0 in /home/rowel/anaconda3/lib/python3.7/site-packages (from lightning-bolts) (1.6.0)\n",
      "Requirement already satisfied: packaging in /home/rowel/anaconda3/lib/python3.7/site-packages (from lightning-bolts) (21.3)\n",
      "Requirement already satisfied: torchmetrics>=0.4.1 in /home/rowel/anaconda3/lib/python3.7/site-packages (from lightning-bolts) (0.7.3)\n",
      "Requirement already satisfied: torch>=1.7.1 in /home/rowel/anaconda3/lib/python3.7/site-packages (from lightning-bolts) (1.11.0)\n",
      "Requirement already satisfied: numpy>=1.17.2 in /home/rowel/anaconda3/lib/python3.7/site-packages (from pytorch-lightning>=1.4.0->lightning-bolts) (1.21.5)\n",
      "Requirement already satisfied: pyDeprecate<0.4.0,>=0.3.1 in /home/rowel/anaconda3/lib/python3.7/site-packages (from pytorch-lightning>=1.4.0->lightning-bolts) (0.3.2)\n",
      "Requirement already satisfied: tensorboard>=2.2.0 in /home/rowel/anaconda3/lib/python3.7/site-packages (from pytorch-lightning>=1.4.0->lightning-bolts) (2.4.1)\n",
      "Requirement already satisfied: tqdm>=4.41.0 in /home/rowel/anaconda3/lib/python3.7/site-packages (from pytorch-lightning>=1.4.0->lightning-bolts) (4.62.3)\n",
      "Requirement already satisfied: PyYAML>=5.4 in /home/rowel/anaconda3/lib/python3.7/site-packages (from pytorch-lightning>=1.4.0->lightning-bolts) (6.0)\n",
      "Requirement already satisfied: typing-extensions>=4.0.0 in /home/rowel/anaconda3/lib/python3.7/site-packages (from pytorch-lightning>=1.4.0->lightning-bolts) (4.1.1)\n",
      "Requirement already satisfied: fsspec[http]!=2021.06.0,>=2021.05.0 in /home/rowel/anaconda3/lib/python3.7/site-packages (from pytorch-lightning>=1.4.0->lightning-bolts) (2022.1.0)\n",
      "Requirement already satisfied: aiohttp in /home/rowel/anaconda3/lib/python3.7/site-packages (from fsspec[http]!=2021.06.0,>=2021.05.0->pytorch-lightning>=1.4.0->lightning-bolts) (3.7.4.post0)\n",
      "Requirement already satisfied: requests in /home/rowel/anaconda3/lib/python3.7/site-packages (from fsspec[http]!=2021.06.0,>=2021.05.0->pytorch-lightning>=1.4.0->lightning-bolts) (2.27.1)\n",
      "Requirement already satisfied: pyparsing!=3.0.5,>=2.0.2 in /home/rowel/anaconda3/lib/python3.7/site-packages (from packaging->lightning-bolts) (3.0.4)\n",
      "Requirement already satisfied: absl-py>=0.4 in /home/rowel/anaconda3/lib/python3.7/site-packages (from tensorboard>=2.2.0->pytorch-lightning>=1.4.0->lightning-bolts) (0.12.0)\n",
      "Requirement already satisfied: markdown>=2.6.8 in /home/rowel/anaconda3/lib/python3.7/site-packages (from tensorboard>=2.2.0->pytorch-lightning>=1.4.0->lightning-bolts) (3.1.1)\n",
      "Requirement already satisfied: google-auth<2,>=1.6.3 in /home/rowel/anaconda3/lib/python3.7/site-packages (from tensorboard>=2.2.0->pytorch-lightning>=1.4.0->lightning-bolts) (1.15.0)\n",
      "Requirement already satisfied: werkzeug>=0.11.15 in /home/rowel/anaconda3/lib/python3.7/site-packages (from tensorboard>=2.2.0->pytorch-lightning>=1.4.0->lightning-bolts) (2.0.3)\n",
      "Requirement already satisfied: setuptools>=41.0.0 in /home/rowel/anaconda3/lib/python3.7/site-packages (from tensorboard>=2.2.0->pytorch-lightning>=1.4.0->lightning-bolts) (58.0.4)\n",
      "Requirement already satisfied: google-auth-oauthlib<0.5,>=0.4.1 in /home/rowel/anaconda3/lib/python3.7/site-packages (from tensorboard>=2.2.0->pytorch-lightning>=1.4.0->lightning-bolts) (0.4.1)\n",
      "Requirement already satisfied: tensorboard-plugin-wit>=1.6.0 in /home/rowel/anaconda3/lib/python3.7/site-packages (from tensorboard>=2.2.0->pytorch-lightning>=1.4.0->lightning-bolts) (1.6.0.post3)\n",
      "Requirement already satisfied: protobuf>=3.6.0 in /home/rowel/anaconda3/lib/python3.7/site-packages (from tensorboard>=2.2.0->pytorch-lightning>=1.4.0->lightning-bolts) (3.19.4)\n",
      "Requirement already satisfied: grpcio>=1.24.3 in /home/rowel/anaconda3/lib/python3.7/site-packages (from tensorboard>=2.2.0->pytorch-lightning>=1.4.0->lightning-bolts) (1.32.0)\n",
      "Requirement already satisfied: wheel>=0.26 in /home/rowel/anaconda3/lib/python3.7/site-packages (from tensorboard>=2.2.0->pytorch-lightning>=1.4.0->lightning-bolts) (0.37.1)\n",
      "Requirement already satisfied: six>=1.10.0 in /home/rowel/anaconda3/lib/python3.7/site-packages (from tensorboard>=2.2.0->pytorch-lightning>=1.4.0->lightning-bolts) (1.16.0)\n",
      "Requirement already satisfied: cachetools<5.0,>=2.0.0 in /home/rowel/anaconda3/lib/python3.7/site-packages (from google-auth<2,>=1.6.3->tensorboard>=2.2.0->pytorch-lightning>=1.4.0->lightning-bolts) (4.1.0)\n",
      "Requirement already satisfied: rsa<4.1,>=3.1.4 in /home/rowel/anaconda3/lib/python3.7/site-packages (from google-auth<2,>=1.6.3->tensorboard>=2.2.0->pytorch-lightning>=1.4.0->lightning-bolts) (4.0)\n",
      "Requirement already satisfied: pyasn1-modules>=0.2.1 in /home/rowel/anaconda3/lib/python3.7/site-packages (from google-auth<2,>=1.6.3->tensorboard>=2.2.0->pytorch-lightning>=1.4.0->lightning-bolts) (0.2.8)\n",
      "Requirement already satisfied: requests-oauthlib>=0.7.0 in /home/rowel/anaconda3/lib/python3.7/site-packages (from google-auth-oauthlib<0.5,>=0.4.1->tensorboard>=2.2.0->pytorch-lightning>=1.4.0->lightning-bolts) (1.3.0)\n",
      "Requirement already satisfied: pyasn1<0.5.0,>=0.4.6 in /home/rowel/anaconda3/lib/python3.7/site-packages (from pyasn1-modules>=0.2.1->google-auth<2,>=1.6.3->tensorboard>=2.2.0->pytorch-lightning>=1.4.0->lightning-bolts) (0.4.8)\n",
      "Requirement already satisfied: idna<4,>=2.5 in /home/rowel/anaconda3/lib/python3.7/site-packages (from requests->fsspec[http]!=2021.06.0,>=2021.05.0->pytorch-lightning>=1.4.0->lightning-bolts) (3.3)\n",
      "Requirement already satisfied: urllib3<1.27,>=1.21.1 in /home/rowel/anaconda3/lib/python3.7/site-packages (from requests->fsspec[http]!=2021.06.0,>=2021.05.0->pytorch-lightning>=1.4.0->lightning-bolts) (1.26.8)\n",
      "Requirement already satisfied: certifi>=2017.4.17 in /home/rowel/anaconda3/lib/python3.7/site-packages (from requests->fsspec[http]!=2021.06.0,>=2021.05.0->pytorch-lightning>=1.4.0->lightning-bolts) (2021.10.8)\n",
      "Requirement already satisfied: charset-normalizer~=2.0.0 in /home/rowel/anaconda3/lib/python3.7/site-packages (from requests->fsspec[http]!=2021.06.0,>=2021.05.0->pytorch-lightning>=1.4.0->lightning-bolts) (2.0.4)\n",
      "Requirement already satisfied: oauthlib>=3.0.0 in /home/rowel/anaconda3/lib/python3.7/site-packages (from requests-oauthlib>=0.7.0->google-auth-oauthlib<0.5,>=0.4.1->tensorboard>=2.2.0->pytorch-lightning>=1.4.0->lightning-bolts) (3.1.0)\n",
      "Requirement already satisfied: chardet<5.0,>=2.0 in /home/rowel/anaconda3/lib/python3.7/site-packages (from aiohttp->fsspec[http]!=2021.06.0,>=2021.05.0->pytorch-lightning>=1.4.0->lightning-bolts) (4.0.0)\n",
      "Requirement already satisfied: yarl<2.0,>=1.0 in /home/rowel/anaconda3/lib/python3.7/site-packages (from aiohttp->fsspec[http]!=2021.06.0,>=2021.05.0->pytorch-lightning>=1.4.0->lightning-bolts) (1.6.3)\n",
      "Requirement already satisfied: attrs>=17.3.0 in /home/rowel/anaconda3/lib/python3.7/site-packages (from aiohttp->fsspec[http]!=2021.06.0,>=2021.05.0->pytorch-lightning>=1.4.0->lightning-bolts) (21.4.0)\n",
      "Requirement already satisfied: async-timeout<4.0,>=3.0 in /home/rowel/anaconda3/lib/python3.7/site-packages (from aiohttp->fsspec[http]!=2021.06.0,>=2021.05.0->pytorch-lightning>=1.4.0->lightning-bolts) (3.0.1)\n",
      "Requirement already satisfied: multidict<7.0,>=4.5 in /home/rowel/anaconda3/lib/python3.7/site-packages (from aiohttp->fsspec[http]!=2021.06.0,>=2021.05.0->pytorch-lightning>=1.4.0->lightning-bolts) (5.1.0)\n",
      "Requirement already satisfied: torchmetrics in /home/rowel/anaconda3/lib/python3.7/site-packages (0.7.3)\n",
      "Requirement already satisfied: torch>=1.3.1 in /home/rowel/anaconda3/lib/python3.7/site-packages (from torchmetrics) (1.11.0)\n",
      "Requirement already satisfied: numpy>=1.17.2 in /home/rowel/anaconda3/lib/python3.7/site-packages (from torchmetrics) (1.21.5)\n",
      "Requirement already satisfied: pyDeprecate==0.3.* in /home/rowel/anaconda3/lib/python3.7/site-packages (from torchmetrics) (0.3.2)\n",
      "Requirement already satisfied: packaging in /home/rowel/anaconda3/lib/python3.7/site-packages (from torchmetrics) (21.3)\n",
      "Requirement already satisfied: typing-extensions in /home/rowel/anaconda3/lib/python3.7/site-packages (from torch>=1.3.1->torchmetrics) (4.1.1)\n",
      "Requirement already satisfied: pyparsing!=3.0.5,>=2.0.2 in /home/rowel/anaconda3/lib/python3.7/site-packages (from packaging->torchmetrics) (3.0.4)\n"
     ]
    }
   ],
   "source": [
    "!pip install pytorch-lightning --upgrade\n",
    "!pip install lightning-bolts --upgrade\n",
    "!pip install torchmetrics --upgrade"
   ]
  },
  {
   "cell_type": "code",
   "execution_count": 12,
   "metadata": {},
   "outputs": [],
   "source": [
    "import torch\n",
    "import torchvision\n",
    "from pytorch_lightning import LightningModule, Trainer\n",
    "from torchmetrics.functional import accuracy"
   ]
  },
  {
   "cell_type": "markdown",
   "metadata": {},
   "source": [
    "### ResNet18MNIST Model\n",
    "\n",
    "This is ResNet18 model from torchvision.models that is subclassed to support a single channel input. We replace the input convolutional layer with a single channel input.\n",
    "\n",
    "`ResNet` class can be found [here](https://pytorch.org/vision/0.8/_modules/torchvision/models/resnet.html)"
   ]
  },
  {
   "cell_type": "code",
   "execution_count": 13,
   "metadata": {},
   "outputs": [],
   "source": [
    "class ResNet18MNIST(torchvision.models.ResNet):\n",
    "    def __init__(self, **kwargs):\n",
    "        super().__init__(torchvision.models.resnet.BasicBlock, [2, 2, 2, 2], **kwargs)\n",
    "        self.conv1 = torch.nn.Conv2d(1, 64, kernel_size=7, stride=2, padding=3, bias=False)"
   ]
  },
  {
   "cell_type": "markdown",
   "metadata": {},
   "source": [
    "### Pytorch Lightning Model\n",
    "\n",
    "PyTorch Lightning Model is a PyTorch Model. It is a subclass of LightningModule. It is a container for the model, the optimizer, the loss function, the metrics, and the data loaders.\n",
    "\n",
    "With PyTorch Lightning, we simplify the training and testing process since we do not need to write boiler plate code for training and testing."
   ]
  },
  {
   "cell_type": "code",
   "execution_count": 14,
   "metadata": {},
   "outputs": [],
   "source": [
    "class LitMNISTModel(LightningModule):\n",
    "    def __init__(self, num_classes=10, lr=0.001, batch_size=32):\n",
    "        super().__init__()\n",
    "        self.save_hyperparameters()\n",
    "        self.model = ResNet18MNIST(num_classes=num_classes)\n",
    "        self.loss = torch.nn.CrossEntropyLoss()\n",
    "\n",
    "    def forward(self, x):\n",
    "        return self.model(x)\n",
    "\n",
    "    # this is called during fit()\n",
    "    def training_step(self, batch, batch_idx):\n",
    "        x, y = batch\n",
    "        y_hat = self.forward(x)\n",
    "        loss = self.loss(y_hat, y)\n",
    "        acc = accuracy(y_hat, y)\n",
    "        return {\"loss\": loss, \"acc\": acc}\n",
    "\n",
    "    # this is called at the end of an epoch\n",
    "    def test_step(self, batch, batch_idx):\n",
    "        x, y = batch\n",
    "        y_hat = self.forward(x)\n",
    "        loss = self.loss(y_hat, y)\n",
    "        acc = accuracy(y_hat, y)\n",
    "        return {\"test_loss\": loss, \"test_acc\": acc}\n",
    "\n",
    "    # this is called at the end of all epochs\n",
    "    def test_epoch_end(self, outputs):\n",
    "        avg_loss = torch.stack([x[\"test_loss\"] for x in outputs]).mean()\n",
    "        avg_acc = torch.stack([x[\"test_acc\"] for x in outputs]).mean()\n",
    "        self.log(\"avg_test_loss\", avg_loss, prog_bar=True)\n",
    "        self.log(\"avg_test_acc\", avg_acc, prog_bar=True)\n",
    "        return {\"avg_test_loss\": avg_loss, \"avg_test_acc\": avg_acc}\n",
    "\n",
    "    # this is model optimizer\n",
    "    def configure_optimizers(self):\n",
    "        return torch.optim.Adam(self.parameters(), lr=self.hparams.lr)\n",
    "    \n",
    "    # this is called after model instatiation to initiliaze the datasets and dataloaders\n",
    "    def setup(self, stage=None):\n",
    "        self.train_dataloader()\n",
    "        self.test_dataloader()\n",
    "\n",
    "    def train_dataloader(self):\n",
    "        return torch.utils.data.DataLoader(\n",
    "            torchvision.datasets.MNIST(\n",
    "                \"./data\", train=True, download=True, transform=torchvision.transforms.ToTensor()\n",
    "            ),\n",
    "            batch_size=self.hparams.batch_size,\n",
    "            shuffle=True,\n",
    "            num_workers=48,\n",
    "            pin_memory=True,\n",
    "        )\n",
    "\n",
    "    def test_dataloader(self):\n",
    "        return torch.utils.data.DataLoader(\n",
    "            torchvision.datasets.MNIST(\n",
    "                \"./data\", train=False, download=True, transform=torchvision.transforms.ToTensor()\n",
    "            ),\n",
    "            batch_size=self.hparams.batch_size,\n",
    "            shuffle=False,\n",
    "            num_workers=48,\n",
    "            pin_memory=True,\n",
    "        )"
   ]
  },
  {
   "cell_type": "markdown",
   "metadata": {},
   "source": [
    "### Program Arguments\n",
    "\n",
    "When run on command line, we can pass arguments to the program."
   ]
  },
  {
   "cell_type": "code",
   "execution_count": 15,
   "metadata": {},
   "outputs": [],
   "source": [
    "def get_args():\n",
    "    import argparse\n",
    "    parser = argparse.ArgumentParser(description=\"PyTorch Lightning MNIST Example\")\n",
    "    parser.add_argument(\"--batch_size\", type=int, default=32, help=\"batch size\")\n",
    "    parser.add_argument(\"--lr\", type=float, default=0.001, help=\"learning rate\")\n",
    "    parser.add_argument(\"--num_workers\", type=int, default=48, help=\"num workers\")\n",
    "    parser.add_argument(\"--num_classes\", type=int, default=10, help=\"num classes\")\n",
    "    parser.add_argument(\"--gpus\", type=int, default=1, help=\"num gpus\")\n",
    "    parser.add_argument(\"--epochs\", type=int, default=5, help=\"num epochs\")\n",
    "    args = parser.parse_args(\"\")\n",
    "    return args"
   ]
  },
  {
   "cell_type": "markdown",
   "metadata": {},
   "source": [
    "### Main Function\n",
    "\n",
    "Get command line arguments. Instatiate a Pytorch Lightning Model. Train the model. Evaluate the model."
   ]
  },
  {
   "cell_type": "code",
   "execution_count": 16,
   "metadata": {},
   "outputs": [
    {
     "name": "stderr",
     "output_type": "stream",
     "text": [
      "GPU available: True, used: True\n",
      "TPU available: False, using: 0 TPU cores\n",
      "IPU available: False, using: 0 IPUs\n",
      "HPU available: False, using: 0 HPUs\n",
      "LOCAL_RANK: 0 - CUDA_VISIBLE_DEVICES: [0,1]\n",
      "\n",
      "  | Name  | Type             | Params\n",
      "-------------------------------------------\n",
      "0 | model | ResNet18MNIST    | 11.2 M\n",
      "1 | loss  | CrossEntropyLoss | 0     \n",
      "-------------------------------------------\n",
      "11.2 M    Trainable params\n",
      "0         Non-trainable params\n",
      "11.2 M    Total params\n",
      "44.701    Total estimated model params size (MB)\n"
     ]
    },
    {
     "data": {
      "application/vnd.jupyter.widget-view+json": {
       "model_id": "328c7477e6f34a8eaca05411c9dcce32",
       "version_major": 2,
       "version_minor": 0
      },
      "text/plain": [
       "Training: 0it [00:00, ?it/s]"
      ]
     },
     "metadata": {},
     "output_type": "display_data"
    },
    {
     "name": "stderr",
     "output_type": "stream",
     "text": [
      "LOCAL_RANK: 0 - CUDA_VISIBLE_DEVICES: [0,1]\n"
     ]
    },
    {
     "data": {
      "application/vnd.jupyter.widget-view+json": {
       "model_id": "e2385da2acd24259b3f915847a1f1899",
       "version_major": 2,
       "version_minor": 0
      },
      "text/plain": [
       "Testing: 0it [00:00, ?it/s]"
      ]
     },
     "metadata": {},
     "output_type": "display_data"
    }
   ],
   "source": [
    "if __name__ == \"__main__\":\n",
    "    args = get_args()\n",
    "    model = LitMNISTModel(num_classes=args.num_classes, lr=args.lr, batch_size=args.batch_size)\n",
    "    model.setup()\n",
    "    trainer = Trainer(\n",
    "        max_epochs=args.epochs,\n",
    "        gpus=args.gpus,\n",
    "    )\n",
    "    trainer.fit(model)\n",
    "    trainer.test(model)"
   ]
  }
 ],
 "metadata": {
  "interpreter": {
   "hash": "52772734322c44a04e342c358be70f2ff4d97da358cb3cd38ceb0f6066598be5"
  },
  "kernelspec": {
   "display_name": "Python 3.7.3 ('base')",
   "language": "python",
   "name": "python3"
  },
  "language_info": {
   "codemirror_mode": {
    "name": "ipython",
    "version": 3
   },
   "file_extension": ".py",
   "mimetype": "text/x-python",
   "name": "python",
   "nbconvert_exporter": "python",
   "pygments_lexer": "ipython3",
   "version": "3.7.3"
  },
  "orig_nbformat": 4
 },
 "nbformat": 4,
 "nbformat_minor": 2
}
