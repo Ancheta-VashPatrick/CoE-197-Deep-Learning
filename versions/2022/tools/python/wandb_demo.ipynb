{
 "cells": [
  {
   "cell_type": "markdown",
   "metadata": {},
   "source": [
    "### Weights and Biases (`wandb`) Demo\n",
    "\n",
    "In deep learning, we perform a lot of model training especially for novel neural architectures. The problem is deep learning frameworks like PyTorch do not provide sufficient tools to visualize input data, track the progress of our experiments, log data, and visualize the outputs. \n",
    "\n",
    "`wandb` addresses this problem. In this demo, we will train a ResNet18 model from scratch. We show how to use `wandb` to visualize input data, prediction, and training progress using loss function value and accuracy. \n",
    "\n",
    "**Note**: Before running this demo, please make sure that you have `wandb.ai` free account. \n",
    "\n",
    "Let us install `wandb`."
   ]
  },
  {
   "cell_type": "code",
   "execution_count": 1,
   "metadata": {},
   "outputs": [
    {
     "name": "stdout",
     "output_type": "stream",
     "text": [
      "Requirement already satisfied: wandb in /home/rowel/anaconda3/lib/python3.7/site-packages (0.12.11)\n",
      "Requirement already satisfied: protobuf>=3.12.0 in /home/rowel/anaconda3/lib/python3.7/site-packages (from wandb) (3.19.4)\n",
      "Requirement already satisfied: python-dateutil>=2.6.1 in /home/rowel/anaconda3/lib/python3.7/site-packages (from wandb) (2.8.2)\n",
      "Requirement already satisfied: sentry-sdk>=1.0.0 in /home/rowel/anaconda3/lib/python3.7/site-packages (from wandb) (1.5.6)\n",
      "Requirement already satisfied: PyYAML in /home/rowel/anaconda3/lib/python3.7/site-packages (from wandb) (6.0)\n",
      "Requirement already satisfied: yaspin>=1.0.0 in /home/rowel/anaconda3/lib/python3.7/site-packages (from wandb) (2.1.0)\n",
      "Requirement already satisfied: docker-pycreds>=0.4.0 in /home/rowel/anaconda3/lib/python3.7/site-packages (from wandb) (0.4.0)\n",
      "Requirement already satisfied: GitPython>=1.0.0 in /home/rowel/anaconda3/lib/python3.7/site-packages (from wandb) (3.1.27)\n",
      "Requirement already satisfied: promise<3,>=2.0 in /home/rowel/anaconda3/lib/python3.7/site-packages (from wandb) (2.3)\n",
      "Requirement already satisfied: Click!=8.0.0,>=7.0 in /home/rowel/anaconda3/lib/python3.7/site-packages (from wandb) (8.0.4)\n",
      "Requirement already satisfied: shortuuid>=0.5.0 in /home/rowel/anaconda3/lib/python3.7/site-packages (from wandb) (1.0.8)\n",
      "Requirement already satisfied: six>=1.13.0 in /home/rowel/anaconda3/lib/python3.7/site-packages (from wandb) (1.16.0)\n",
      "Requirement already satisfied: pathtools in /home/rowel/anaconda3/lib/python3.7/site-packages (from wandb) (0.1.2)\n",
      "Requirement already satisfied: setproctitle in /home/rowel/anaconda3/lib/python3.7/site-packages (from wandb) (1.2.2)\n",
      "Requirement already satisfied: requests<3,>=2.0.0 in /home/rowel/anaconda3/lib/python3.7/site-packages (from wandb) (2.27.1)\n",
      "Requirement already satisfied: psutil>=5.0.0 in /home/rowel/anaconda3/lib/python3.7/site-packages (from wandb) (5.8.0)\n",
      "Requirement already satisfied: importlib-metadata in /home/rowel/anaconda3/lib/python3.7/site-packages (from Click!=8.0.0,>=7.0->wandb) (4.8.2)\n",
      "Requirement already satisfied: typing-extensions>=3.7.4.3 in /home/rowel/anaconda3/lib/python3.7/site-packages (from GitPython>=1.0.0->wandb) (3.10.0.2)\n",
      "Requirement already satisfied: gitdb<5,>=4.0.1 in /home/rowel/anaconda3/lib/python3.7/site-packages (from GitPython>=1.0.0->wandb) (4.0.9)\n",
      "Requirement already satisfied: smmap<6,>=3.0.1 in /home/rowel/anaconda3/lib/python3.7/site-packages (from gitdb<5,>=4.0.1->GitPython>=1.0.0->wandb) (5.0.0)\n",
      "Requirement already satisfied: idna<4,>=2.5 in /home/rowel/anaconda3/lib/python3.7/site-packages (from requests<3,>=2.0.0->wandb) (3.3)\n",
      "Requirement already satisfied: urllib3<1.27,>=1.21.1 in /home/rowel/anaconda3/lib/python3.7/site-packages (from requests<3,>=2.0.0->wandb) (1.26.8)\n",
      "Requirement already satisfied: certifi>=2017.4.17 in /home/rowel/anaconda3/lib/python3.7/site-packages (from requests<3,>=2.0.0->wandb) (2021.10.8)\n",
      "Requirement already satisfied: charset-normalizer~=2.0.0 in /home/rowel/anaconda3/lib/python3.7/site-packages (from requests<3,>=2.0.0->wandb) (2.0.4)\n",
      "Requirement already satisfied: termcolor<2.0.0,>=1.1.0 in /home/rowel/anaconda3/lib/python3.7/site-packages (from yaspin>=1.0.0->wandb) (1.1.0)\n",
      "Requirement already satisfied: zipp>=0.5 in /home/rowel/anaconda3/lib/python3.7/site-packages (from importlib-metadata->Click!=8.0.0,>=7.0->wandb) (3.7.0)\n"
     ]
    }
   ],
   "source": [
    "!pip install wandb"
   ]
  },
  {
   "cell_type": "markdown",
   "metadata": {},
   "source": [
    "**Import** the required modules."
   ]
  },
  {
   "cell_type": "code",
   "execution_count": 2,
   "metadata": {},
   "outputs": [],
   "source": [
    "import torch\n",
    "import torchvision\n",
    "import wandb\n",
    "import datetime\n",
    "from torch.optim import SGD\n",
    "from torch.optim.lr_scheduler import CosineAnnealingLR\n",
    "from torch.utils.data import DataLoader\n",
    "from torchvision import datasets, transforms\n",
    "from ui import progress_bar"
   ]
  },
  {
   "cell_type": "markdown",
   "metadata": {},
   "source": [
    "**Login to and initialize** `wandb`. You will need to use your `wandb` API key to run this demo.\n",
    "\n",
    "As the config indicates, we will train our model using `cifar10` dataset, learning rate of `0.1`, and batch size of `128` for `100` epochs. \n",
    "\n",
    "epochs means a complete sampling of the dataset (train). In the `wandb` plots, step is the term used instead of epoch.  \n",
    "batch size is the number of samples per training step.\n"
   ]
  },
  {
   "cell_type": "code",
   "execution_count": 3,
   "metadata": {},
   "outputs": [
    {
     "name": "stderr",
     "output_type": "stream",
     "text": [
      "Failed to detect the name of this notebook, you can set it manually with the WANDB_NOTEBOOK_NAME environment variable to enable code saving.\n",
      "\u001b[34m\u001b[1mwandb\u001b[0m: Currently logged in as: \u001b[33mrowel\u001b[0m. Use \u001b[1m`wandb login --relogin`\u001b[0m to force relogin\n",
      "\u001b[34m\u001b[1mwandb\u001b[0m: Currently logged in as: \u001b[33mrowel\u001b[0m (\u001b[33mupeee\u001b[0m). Use \u001b[1m`wandb login --relogin`\u001b[0m to force relogin\n"
     ]
    },
    {
     "data": {
      "text/html": [
       "Tracking run with wandb version 0.13.4"
      ],
      "text/plain": [
       "<IPython.core.display.HTML object>"
      ]
     },
     "metadata": {},
     "output_type": "display_data"
    },
    {
     "data": {
      "text/html": [
       "Run data is saved locally in <code>/home/rowel/github/roatienza/Deep-Learning-Experiments/versions/2022/tools/python/wandb/run-20221006_082943-2yul34cq</code>"
      ],
      "text/plain": [
       "<IPython.core.display.HTML object>"
      ]
     },
     "metadata": {},
     "output_type": "display_data"
    },
    {
     "data": {
      "text/html": [
       "Syncing run <strong><a href=\"https://wandb.ai/upeee/wandb-project/runs/2yul34cq\" target=\"_blank\">icy-night-5</a></strong> to <a href=\"https://wandb.ai/upeee/wandb-project\" target=\"_blank\">Weights & Biases</a> (<a href=\"https://wandb.me/run\" target=\"_blank\">docs</a>)<br/>"
      ],
      "text/plain": [
       "<IPython.core.display.HTML object>"
      ]
     },
     "metadata": {},
     "output_type": "display_data"
    }
   ],
   "source": [
    "wandb.login()\n",
    "config = {\n",
    "  \"learning_rate\": 0.1,\n",
    "  \"epochs\": 100,\n",
    "  \"batch_size\": 128,\n",
    "  \"dataset\": \"cifar10\"\n",
    "}\n",
    "run = wandb.init(project=\"wandb-project\", entity=\"upeee\", config=config)"
   ]
  },
  {
   "cell_type": "markdown",
   "metadata": {},
   "source": [
    "### Build the model\n",
    "\n",
    "Use a ResNet18 from `torchvision`. Remove the last layer that was used for 1k-class ImageNet classification. Since we will use CIFAR10, the last layer is replaced by a linear layer with 10 outputs. We will train the model from scratch, so we set `pretrained=False`."
   ]
  },
  {
   "cell_type": "code",
   "execution_count": 4,
   "metadata": {},
   "outputs": [
    {
     "name": "stderr",
     "output_type": "stream",
     "text": [
      "/home/rowel/anaconda3/envs/voice/lib/python3.9/site-packages/torchvision/models/_utils.py:208: UserWarning: The parameter 'pretrained' is deprecated since 0.13 and will be removed in 0.15, please use 'weights' instead.\n",
      "  warnings.warn(\n",
      "/home/rowel/anaconda3/envs/voice/lib/python3.9/site-packages/torchvision/models/_utils.py:223: UserWarning: Arguments other than a weight enum or `None` for 'weights' are deprecated since 0.13 and will be removed in 0.15. The current behavior is equivalent to passing `weights=None`.\n",
      "  warnings.warn(msg)\n"
     ]
    },
    {
     "data": {
      "text/plain": [
       "[]"
      ]
     },
     "execution_count": 4,
     "metadata": {},
     "output_type": "execute_result"
    }
   ],
   "source": [
    "device = torch.device(\"cuda\" if torch.cuda.is_available() else \"cpu\")\n",
    "model = torchvision.models.resnet18(pretrained=False, progress=True)\n",
    "\n",
    "model.fc = torch.nn.Linear(model.fc.in_features, 10)  \n",
    "model.to(device)\n",
    "\n",
    "# watch model gradients during training\n",
    "wandb.watch(model)"
   ]
  },
  {
   "cell_type": "markdown",
   "metadata": {},
   "source": [
    "### Loss function, Optimizer, Scheduler and DataLoader\n",
    "\n",
    "The appropriate loss function is cross entropy for multi-category classfications. We use `SGD` or stochastic gradient descent for optimization. Our learning rate that starts at `0.1` decays to zero at the end of total number of epochs. The decay is controlled by a cosine learning rate decay scheduler. \n",
    "\n",
    "Finally, we use `cifar10` dataset that is available in `torchvision`. We will discuss datasets and dataloaders in our future demo. For the meantime, we can treat dataloader as a data strcuture that dispenses batch size data from either the train or test split of the dataset."
   ]
  },
  {
   "cell_type": "code",
   "execution_count": 5,
   "metadata": {
    "scrolled": true
   },
   "outputs": [
    {
     "name": "stdout",
     "output_type": "stream",
     "text": [
      "Files already downloaded and verified\n",
      "Files already downloaded and verified\n"
     ]
    }
   ],
   "source": [
    "loss = torch.nn.CrossEntropyLoss()\n",
    "optimizer = SGD(model.parameters(), lr=wandb.config.learning_rate)\n",
    "scheduler = CosineAnnealingLR(optimizer, T_max=wandb.config.epochs)\n",
    "\n",
    "x_train = datasets.CIFAR10(root='./data', train=True, \n",
    "                           download=True, \n",
    "                           transform=transforms.ToTensor())\n",
    "x_test = datasets.CIFAR10(root='./data',\n",
    "                          train=False, \n",
    "                          download=True, \n",
    "                          transform=transforms.ToTensor())\n",
    "train_loader = DataLoader(x_train, \n",
    "                          batch_size=wandb.config.batch_size, \n",
    "                          shuffle=True, \n",
    "                          num_workers=2)\n",
    "test_loader = DataLoader(x_test, \n",
    "                         batch_size=wandb.config.batch_size, \n",
    "                         shuffle=False, \n",
    "                         num_workers=2)"
   ]
  },
  {
   "cell_type": "markdown",
   "metadata": {},
   "source": [
    "### Visualizing sample data from test split\n",
    "\n",
    "We can visualize data from the test split by getting a batch sample: `image, label = iter(test_loader).next()`. We use `wandb` table to create a column for image, grount truth label and initial model predicted label. The `wandb` table will show up when we run `wandb.log()` during training. \n",
    "\n",
    "CIFAR10 dataset is made of small `32x32` RGB images. Each image belongs to one of the 10 categories or classes. Below are sample images from CIFAR10 and their corresponding human labels.\n",
    "\n",
    "<img src=\"cifar10-samples.png\" width=\"600\" height=\"600\">"
   ]
  },
  {
   "cell_type": "code",
   "execution_count": 6,
   "metadata": {},
   "outputs": [
    {
     "name": "stdout",
     "output_type": "stream",
     "text": [
      "cat vs.  deer\n",
      "ship vs.  deer\n",
      "ship vs.  deer\n",
      "airplane vs.  deer\n",
      "frog vs.  deer\n",
      "frog vs.  deer\n",
      "automobile vs.  deer\n",
      "frog vs.  deer\n"
     ]
    }
   ],
   "source": [
    "\n",
    "label_human = [\"airplane\", \"automobile\", \"bird\", \"cat\", \"deer\", \"dog\", \"frog\", \"horse\", \"ship\", \"truck\"]\n",
    "\n",
    "table_test = wandb.Table(columns=['Image', \"Ground Truth\", \"Initial Pred Label\",])\n",
    "\n",
    "image, label = iter(test_loader).next()\n",
    "model.eval()\n",
    "with torch.no_grad():\n",
    "  pred = torch.argmax(model(image.to(device)), dim=1).cpu().numpy()\n",
    "\n",
    "for i in range(8):\n",
    "  table_test.add_data(wandb.Image(image[i]),\n",
    "                      label_human[label[i]], \n",
    "                      label_human[pred[i]])\n",
    "  print(label_human[label[i]], \"vs. \",  label_human[pred[i]])"
   ]
  },
  {
   "cell_type": "markdown",
   "metadata": {},
   "source": [
    "### The train loop\n",
    "\n",
    "At every epoch, we will run the train loop for the model. At every iteration, we will get a batch of data from the train split. We will use the data to update the model parameters. We will use the loss function to calculate the loss value. We will use the optimizer to update the model parameters. We will use the scheduler to update the learning rate. Later, we will use the `wandb` table to visualize the loss and accuracy.\n",
    "\n",
    "We use `progress_bar` to show the progress of the training."
   ]
  },
  {
   "cell_type": "code",
   "execution_count": 7,
   "metadata": {},
   "outputs": [],
   "source": [
    "def train(epoch):\n",
    "  model.train()\n",
    "  train_loss = 0\n",
    "  correct = 0\n",
    "  train_samples = 0\n",
    "\n",
    "  # sample a batch. compute loss and backpropagate\n",
    "  for batch_idx, (data, target) in enumerate(train_loader):\n",
    "    optimizer.zero_grad()\n",
    "    target = target.to(device)\n",
    "    output = model(data.to(device))\n",
    "    loss_value = loss(output, target)\n",
    "    loss_value.backward()\n",
    "    optimizer.step()\n",
    "    scheduler.step(epoch)\n",
    "    train_loss += loss_value.item()\n",
    "    train_samples += len(data)\n",
    "    pred = output.argmax(dim=1, keepdim=True)\n",
    "    correct += pred.eq(target.view_as(pred)).sum().item()\n",
    "    if batch_idx % 10 == 0:\n",
    "      accuracy = 100. * correct / len(train_loader.dataset)\n",
    "      progress_bar(batch_idx,\n",
    "                   len(train_loader),\n",
    "                  'Train Epoch: {}, Loss: {:.6f}, Acc: {:.2f}%'.format(epoch+1, \n",
    "                  train_loss/train_samples, accuracy))\n",
    "  \n",
    "  train_loss /= len(train_loader.dataset)\n",
    "  accuracy = 100. * correct / len(train_loader.dataset)\n",
    "\n",
    "  return accuracy, train_loss"
   ]
  },
  {
   "cell_type": "markdown",
   "metadata": {},
   "source": [
    "### The validation loop\n",
    "\n",
    "After every epoch, we will run the validation loop for the model. In this way, we can track the progress of our model training. Both the average loss and accuracy are calculated. During training, we will use the `wandb` table to visualize the loss and accuracy."
   ]
  },
  {
   "cell_type": "code",
   "execution_count": 8,
   "metadata": {},
   "outputs": [],
   "source": [
    "def test():\n",
    "  model.eval()\n",
    "  test_loss = 0\n",
    "  correct = 0\n",
    "  with torch.no_grad():\n",
    "    for data, target in test_loader:\n",
    "      output = model(data.to(device))   \n",
    "      target = target.to(device)\n",
    "\n",
    "      test_loss += loss(output, target).item()\n",
    "      pred = output.argmax(dim=1, keepdim=True)\n",
    "      correct += pred.eq(target.view_as(pred)).sum().item()\n",
    "\n",
    "  test_loss /= len(test_loader.dataset)\n",
    "  accuracy = 100. * correct / len(test_loader.dataset)\n",
    "\n",
    "  print('\\nTest Loss: {:.4f}, Acc: {:.2f}%\\n'.format(test_loss, accuracy))\n",
    "\n",
    "  return accuracy, test_loss"
   ]
  },
  {
   "cell_type": "markdown",
   "metadata": {},
   "source": [
    "### `wandb` plots\n",
    "\n",
    "Finally, we will use `wandb` to visualize the training progress. We will use the following plots:\n",
    "- Model gradients (`wandb.watch(model)`)\n",
    "- Train and test losses (`\"train loss\": train_loss,` `\"test loss\": test_loss,`)\n",
    "- Train and validation accuracies (`\"Train accuracy\": train_acc, \"Test accuracy\": test_acc,`)\n",
    "- Learning rate which decreases over epochs (`\"Learning rate\": optimizer.param_groups[0]['lr']`)\n",
    "\n",
    "We re-use the earlier `table_test` to see the final prediction.\n",
    "\n",
    "We save the best peforming model to `./resnet18_best_acc.pth`. This can be used as a pretrained model like the pre-trained model in `torchvision`."
   ]
  },
  {
   "cell_type": "code",
   "execution_count": 9,
   "metadata": {
    "scrolled": true
   },
   "outputs": [
    {
     "name": "stderr",
     "output_type": "stream",
     "text": [
      "/home/rowel/anaconda3/envs/voice/lib/python3.9/site-packages/IPython/core/display.py:419: UserWarning: Consider using IPython.display.IFrame instead\n",
      "  warnings.warn(\"Consider using IPython.display.IFrame instead\")\n"
     ]
    },
    {
     "data": {
      "text/html": [
       "<iframe src=\"https://wandb.ai/upeee/wandb-project/runs/2yul34cq?jupyter=true\" style=\"border:none;width:100%;height:1000px;\"></iframe>"
      ],
      "text/plain": [
       "<IPython.core.display.HTML object>"
      ]
     },
     "metadata": {},
     "output_type": "display_data"
    },
    {
     "name": "stdout",
     "output_type": "stream",
     "text": [
      " [>.............................]  Step: 7m52s | Tot: 2ms | Train Epoch: 1, Loss: 0.020563, Acc: 0.02 1/391 \r"
     ]
    },
    {
     "name": "stderr",
     "output_type": "stream",
     "text": [
      "/home/rowel/anaconda3/envs/voice/lib/python3.9/site-packages/torch/optim/lr_scheduler.py:156: UserWarning: The epoch parameter in `scheduler.step()` was not necessary and is being deprecated where possible. Please use `scheduler.step()` to step the scheduler. During the deprecation, if epoch is different from None, the closed form is used instead of the new chainable form, where available. Please open an issue if you are unable to replicate your use case: https://github.com/pytorch/pytorch/issues/new/choose.\n",
      "  warnings.warn(EPOCH_DEPRECATION_WARNING, UserWarning)\n"
     ]
    },
    {
     "name": "stdout",
     "output_type": "stream",
     "text": [
      " [=============================>]  Step: 180ms | Tot: 7s77ms | Train Epoch: 1, Loss: 0.012550, Acc: 44.77 391/391  \n",
      "\n",
      "Test Loss: 0.0105, Acc: 53.42%\n",
      "\n",
      " [=============================>]  Step: 184ms | Tot: 7s93ms | Train Epoch: 2, Loss: 0.008793, Acc: 60.38 391/391  \n",
      "\n",
      "Test Loss: 0.0144, Acc: 39.73%\n",
      "\n",
      " [=============================>]  Step: 166ms | Tot: 6s621ms | Train Epoch: 3, Loss: 0.007187, Acc: 67.72 391/391 \n",
      "\n",
      "Test Loss: 0.0096, Acc: 58.26%\n",
      "\n",
      " [=============================>]  Step: 172ms | Tot: 6s718ms | Train Epoch: 4, Loss: 0.006043, Acc: 72.91 391/391 \n",
      "\n",
      "Test Loss: 0.0100, Acc: 59.82%\n",
      "\n",
      " [=============================>]  Step: 169ms | Tot: 6s698ms | Train Epoch: 5, Loss: 0.005086, Acc: 77.13 391/391 \n",
      "\n",
      "Test Loss: 0.0253, Acc: 36.02%\n",
      "\n",
      " [=============================>]  Step: 169ms | Tot: 6s717ms | Train Epoch: 6, Loss: 0.004318, Acc: 80.54 391/391 \n",
      "\n",
      "Test Loss: 0.0089, Acc: 64.40%\n",
      "\n",
      " [=============================>]  Step: 168ms | Tot: 6s628ms | Train Epoch: 7, Loss: 0.003571, Acc: 83.86 391/391 \n",
      "\n",
      "Test Loss: 0.0095, Acc: 64.46%\n",
      "\n",
      " [=============================>]  Step: 170ms | Tot: 6s641ms | Train Epoch: 8, Loss: 0.002979, Acc: 86.59 391/391 \n",
      "\n",
      "Test Loss: 0.0084, Acc: 67.81%\n",
      "\n",
      " [=============================>]  Step: 166ms | Tot: 6s684ms | Train Epoch: 9, Loss: 0.002438, Acc: 89.09 391/391 \n",
      "\n",
      "Test Loss: 0.0094, Acc: 67.85%\n",
      "\n",
      " [=============================>]  Step: 169ms | Tot: 6s743ms | Train Epoch: 10, Loss: 0.001979, Acc: 91.05 391/391 \n",
      "\n",
      "Test Loss: 0.0106, Acc: 66.31%\n",
      "\n",
      " [=============================>]  Step: 170ms | Tot: 6s858ms | Train Epoch: 11, Loss: 0.001698, Acc: 92.22 391/391 \n",
      "\n",
      "Test Loss: 0.0113, Acc: 66.95%\n",
      "\n",
      " [=============================>]  Step: 169ms | Tot: 6s722ms | Train Epoch: 12, Loss: 0.001325, Acc: 94.00 391/391 \n",
      "\n",
      "Test Loss: 0.0117, Acc: 66.07%\n",
      "\n",
      " [=============================>]  Step: 170ms | Tot: 6s772ms | Train Epoch: 13, Loss: 0.001142, Acc: 94.87 391/391 \n",
      "\n",
      "Test Loss: 0.0182, Acc: 58.09%\n",
      "\n",
      " [=============================>]  Step: 169ms | Tot: 6s658ms | Train Epoch: 14, Loss: 0.000916, Acc: 95.87 391/391 \n",
      "\n",
      "Test Loss: 0.0110, Acc: 69.58%\n",
      "\n",
      " [=============================>]  Step: 167ms | Tot: 6s781ms | Train Epoch: 15, Loss: 0.000822, Acc: 96.31 391/391 \n",
      "\n",
      "Test Loss: 0.0111, Acc: 70.65%\n",
      "\n",
      " [=============================>]  Step: 169ms | Tot: 6s773ms | Train Epoch: 16, Loss: 0.000649, Acc: 97.05 391/391 \n",
      "\n",
      "Test Loss: 0.0125, Acc: 69.41%\n",
      "\n",
      " [=============================>]  Step: 168ms | Tot: 6s675ms | Train Epoch: 17, Loss: 0.000572, Acc: 97.43 391/391 \n",
      "\n",
      "Test Loss: 0.0117, Acc: 70.78%\n",
      "\n",
      " [=============================>]  Step: 173ms | Tot: 6s904ms | Train Epoch: 18, Loss: 0.000468, Acc: 97.88 391/391 \n",
      "\n",
      "Test Loss: 0.0147, Acc: 69.03%\n",
      "\n",
      " [=============================>]  Step: 170ms | Tot: 6s710ms | Train Epoch: 19, Loss: 0.000433, Acc: 98.12 391/391 \n",
      "\n",
      "Test Loss: 0.0126, Acc: 71.92%\n",
      "\n",
      " [=============================>]  Step: 168ms | Tot: 6s707ms | Train Epoch: 20, Loss: 0.000415, Acc: 98.14 391/391 \n",
      "\n",
      "Test Loss: 0.0130, Acc: 70.40%\n",
      "\n",
      " [=============================>]  Step: 167ms | Tot: 6s782ms | Train Epoch: 21, Loss: 0.000354, Acc: 98.44 391/391 \n",
      "\n",
      "Test Loss: 0.0129, Acc: 72.08%\n",
      "\n",
      " [=============================>]  Step: 169ms | Tot: 6s670ms | Train Epoch: 22, Loss: 0.000246, Acc: 98.92 391/391 \n",
      "\n",
      "Test Loss: 0.0120, Acc: 73.63%\n",
      "\n",
      " [=============================>]  Step: 168ms | Tot: 6s757ms | Train Epoch: 23, Loss: 0.000229, Acc: 99.01 391/391 \n",
      "\n",
      "Test Loss: 0.0130, Acc: 73.23%\n",
      "\n",
      " [=============================>]  Step: 169ms | Tot: 6s711ms | Train Epoch: 24, Loss: 0.000203, Acc: 99.11 391/391 \n",
      "\n",
      "Test Loss: 0.0125, Acc: 72.95%\n",
      "\n",
      " [=============================>]  Step: 167ms | Tot: 6s760ms | Train Epoch: 25, Loss: 0.000211, Acc: 99.08 391/391 \n",
      "\n",
      "Test Loss: 0.0136, Acc: 72.27%\n",
      "\n",
      " [=============================>]  Step: 171ms | Tot: 6s892ms | Train Epoch: 26, Loss: 0.000173, Acc: 99.28 391/391 \n",
      "\n",
      "Test Loss: 0.0135, Acc: 72.99%\n",
      "\n",
      " [=============================>]  Step: 172ms | Tot: 6s834ms | Train Epoch: 27, Loss: 0.000134, Acc: 99.43 391/391 \n",
      "\n",
      "Test Loss: 0.0170, Acc: 69.13%\n",
      "\n",
      " [=============================>]  Step: 166ms | Tot: 6s832ms | Train Epoch: 28, Loss: 0.000140, Acc: 99.42 391/391 \n",
      "\n",
      "Test Loss: 0.0150, Acc: 71.49%\n",
      "\n",
      " [=============================>]  Step: 168ms | Tot: 6s729ms | Train Epoch: 29, Loss: 0.000126, Acc: 99.46 391/391 \n",
      "\n",
      "Test Loss: 0.0137, Acc: 73.94%\n",
      "\n",
      " [=============================>]  Step: 174ms | Tot: 6s832ms | Train Epoch: 30, Loss: 0.000099, Acc: 99.55 391/391 \n",
      "\n",
      "Test Loss: 0.0145, Acc: 73.58%\n",
      "\n",
      " [=============================>]  Step: 169ms | Tot: 6s732ms | Train Epoch: 31, Loss: 0.000067, Acc: 99.75 391/391 \n",
      "\n",
      "Test Loss: 0.0138, Acc: 74.50%\n",
      "\n",
      " [=============================>]  Step: 167ms | Tot: 6s702ms | Train Epoch: 32, Loss: 0.000032, Acc: 99.87 391/391 \n",
      "\n",
      "Test Loss: 0.0155, Acc: 73.63%\n",
      "\n",
      " [=============================>]  Step: 167ms | Tot: 6s720ms | Train Epoch: 33, Loss: 0.000037, Acc: 99.86 391/391 \n",
      "\n",
      "Test Loss: 0.0146, Acc: 74.35%\n",
      "\n",
      " [=============================>]  Step: 168ms | Tot: 6s787ms | Train Epoch: 34, Loss: 0.000037, Acc: 99.85 391/391 \n",
      "\n",
      "Test Loss: 0.0151, Acc: 73.65%\n",
      "\n",
      " [=============================>]  Step: 165ms | Tot: 6s873ms | Train Epoch: 35, Loss: 0.000029, Acc: 99.88 391/391 \n",
      "\n",
      "Test Loss: 0.0154, Acc: 74.93%\n",
      "\n",
      " [=============================>]  Step: 165ms | Tot: 6s801ms | Train Epoch: 36, Loss: 0.000023, Acc: 99.91 391/391 \n",
      "\n",
      "Test Loss: 0.0165, Acc: 73.55%\n",
      "\n",
      " [=============================>]  Step: 168ms | Tot: 6s663ms | Train Epoch: 37, Loss: 0.000023, Acc: 99.90 391/391 \n",
      "\n",
      "Test Loss: 0.0154, Acc: 74.79%\n",
      "\n",
      " [=============================>]  Step: 166ms | Tot: 6s624ms | Train Epoch: 38, Loss: 0.000014, Acc: 99.95 391/391 \n",
      "\n",
      "Test Loss: 0.0158, Acc: 75.17%\n",
      "\n",
      " [=============================>]  Step: 167ms | Tot: 6s735ms | Train Epoch: 39, Loss: 0.000005, Acc: 99.99 391/391 \n",
      "\n",
      "Test Loss: 0.0157, Acc: 75.23%\n",
      "\n",
      " [=============================>]  Step: 168ms | Tot: 6s830ms | Train Epoch: 40, Loss: 0.000004, Acc: 99.99 391/391 \n",
      "\n",
      "Test Loss: 0.0162, Acc: 75.02%\n",
      "\n",
      " [=============================>]  Step: 166ms | Tot: 6s733ms | Train Epoch: 41, Loss: 0.000003, Acc: 99.99 391/391 \n",
      "\n",
      "Test Loss: 0.0162, Acc: 75.11%\n",
      "\n",
      " [=============================>]  Step: 166ms | Tot: 6s723ms | Train Epoch: 42, Loss: 0.000003, Acc: 99.99 391/391 \n",
      "\n",
      "Test Loss: 0.0166, Acc: 74.83%\n",
      "\n",
      " [=============================>]  Step: 170ms | Tot: 6s626ms | Train Epoch: 43, Loss: 0.000002, Acc: 100.00 391/391 \n",
      "\n",
      "Test Loss: 0.0165, Acc: 75.26%\n",
      "\n",
      " [=============================>]  Step: 167ms | Tot: 6s749ms | Train Epoch: 44, Loss: 0.000001, Acc: 100.00 391/391 \n",
      "\n",
      "Test Loss: 0.0164, Acc: 75.12%\n",
      "\n",
      " [=============================>]  Step: 173ms | Tot: 6s710ms | Train Epoch: 45, Loss: 0.000001, Acc: 100.00 391/391 \n",
      "\n",
      "Test Loss: 0.0165, Acc: 75.32%\n",
      "\n",
      " [=============================>]  Step: 171ms | Tot: 6s816ms | Train Epoch: 46, Loss: 0.000004, Acc: 99.99 391/391 \n",
      "\n",
      "Test Loss: 0.0169, Acc: 74.59%\n",
      "\n",
      " [=============================>]  Step: 169ms | Tot: 6s809ms | Train Epoch: 47, Loss: 0.000003, Acc: 99.99 391/391 \n",
      "\n",
      "Test Loss: 0.0167, Acc: 74.85%\n",
      "\n",
      " [=============================>]  Step: 169ms | Tot: 6s730ms | Train Epoch: 48, Loss: 0.000001, Acc: 100.00 391/391 \n",
      "\n",
      "Test Loss: 0.0168, Acc: 75.27%\n",
      "\n",
      " [=============================>]  Step: 167ms | Tot: 6s774ms | Train Epoch: 49, Loss: 0.000001, Acc: 100.00 391/391 \n",
      "\n",
      "Test Loss: 0.0164, Acc: 75.29%\n",
      "\n",
      " [=============================>]  Step: 168ms | Tot: 6s695ms | Train Epoch: 50, Loss: 0.000001, Acc: 100.00 391/391 \n",
      "\n",
      "Test Loss: 0.0169, Acc: 75.01%\n",
      "\n",
      " [=============================>]  Step: 167ms | Tot: 6s670ms | Train Epoch: 51, Loss: 0.000001, Acc: 100.00 391/391 \n",
      "\n",
      "Test Loss: 0.0170, Acc: 75.13%\n",
      "\n",
      " [=============================>]  Step: 166ms | Tot: 6s781ms | Train Epoch: 52, Loss: 0.000001, Acc: 100.00 391/391 \n",
      "\n",
      "Test Loss: 0.0168, Acc: 75.26%\n",
      "\n",
      " [=============================>]  Step: 168ms | Tot: 6s779ms | Train Epoch: 53, Loss: 0.000000, Acc: 100.00 391/391 \n",
      "\n",
      "Test Loss: 0.0167, Acc: 75.31%\n",
      "\n",
      " [=============================>]  Step: 167ms | Tot: 6s669ms | Train Epoch: 54, Loss: 0.000001, Acc: 100.00 391/391 \n",
      "\n",
      "Test Loss: 0.0168, Acc: 75.27%\n",
      "\n",
      " [=============================>]  Step: 169ms | Tot: 6s692ms | Train Epoch: 55, Loss: 0.000001, Acc: 100.00 391/391 \n",
      "\n",
      "Test Loss: 0.0167, Acc: 75.44%\n",
      "\n",
      " [=============================>]  Step: 179ms | Tot: 6s782ms | Train Epoch: 56, Loss: 0.000000, Acc: 100.00 391/391 \n",
      "\n",
      "Test Loss: 0.0165, Acc: 75.36%\n",
      "\n",
      " [=============================>]  Step: 182ms | Tot: 6s718ms | Train Epoch: 57, Loss: 0.000001, Acc: 100.00 391/391 \n",
      "\n",
      "Test Loss: 0.0170, Acc: 75.25%\n",
      "\n",
      " [=============================>]  Step: 167ms | Tot: 6s590ms | Train Epoch: 58, Loss: 0.000001, Acc: 100.00 391/391 \n",
      "\n",
      "Test Loss: 0.0167, Acc: 75.27%\n",
      "\n",
      " [=============================>]  Step: 173ms | Tot: 6s699ms | Train Epoch: 59, Loss: 0.000000, Acc: 100.00 391/391 \n",
      "\n",
      "Test Loss: 0.0169, Acc: 75.28%\n",
      "\n",
      " [=============================>]  Step: 167ms | Tot: 6s708ms | Train Epoch: 60, Loss: 0.000002, Acc: 100.00 391/391 \n",
      "\n",
      "Test Loss: 0.0170, Acc: 75.26%\n",
      "\n",
      " [=============================>]  Step: 166ms | Tot: 6s663ms | Train Epoch: 61, Loss: 0.000001, Acc: 100.00 391/391 \n",
      "\n",
      "Test Loss: 0.0171, Acc: 75.44%\n",
      "\n",
      " [=============================>]  Step: 167ms | Tot: 6s697ms | Train Epoch: 62, Loss: 0.000000, Acc: 100.00 391/391 \n",
      "\n",
      "Test Loss: 0.0168, Acc: 75.38%\n",
      "\n",
      " [=============================>]  Step: 170ms | Tot: 6s702ms | Train Epoch: 63, Loss: 0.000000, Acc: 100.00 391/391 \n",
      "\n",
      "Test Loss: 0.0172, Acc: 75.49%\n",
      "\n",
      " [=============================>]  Step: 168ms | Tot: 6s744ms | Train Epoch: 64, Loss: 0.000001, Acc: 100.00 391/391 \n",
      "\n",
      "Test Loss: 0.0169, Acc: 75.42%\n",
      "\n",
      " [=============================>]  Step: 169ms | Tot: 6s685ms | Train Epoch: 65, Loss: 0.000000, Acc: 100.00 391/391 \n",
      "\n",
      "Test Loss: 0.0170, Acc: 75.42%\n",
      "\n",
      " [=============================>]  Step: 167ms | Tot: 6s744ms | Train Epoch: 66, Loss: 0.000000, Acc: 100.00 391/391 \n",
      "\n",
      "Test Loss: 0.0168, Acc: 75.46%\n",
      "\n",
      " [=============================>]  Step: 167ms | Tot: 6s770ms | Train Epoch: 67, Loss: 0.000000, Acc: 100.00 391/391 \n",
      "\n",
      "Test Loss: 0.0173, Acc: 75.39%\n",
      "\n",
      " [=============================>]  Step: 167ms | Tot: 6s693ms | Train Epoch: 68, Loss: 0.000000, Acc: 100.00 391/391 \n",
      "\n",
      "Test Loss: 0.0169, Acc: 75.50%\n",
      "\n",
      " [=============================>]  Step: 167ms | Tot: 6s775ms | Train Epoch: 69, Loss: 0.000000, Acc: 100.00 391/391 \n",
      "\n",
      "Test Loss: 0.0171, Acc: 75.58%\n",
      "\n",
      " [=============================>]  Step: 166ms | Tot: 6s644ms | Train Epoch: 70, Loss: 0.000000, Acc: 100.00 391/391 \n",
      "\n",
      "Test Loss: 0.0169, Acc: 75.40%\n",
      "\n",
      " [=============================>]  Step: 167ms | Tot: 6s663ms | Train Epoch: 71, Loss: 0.000000, Acc: 100.00 391/391 \n",
      "\n",
      "Test Loss: 0.0171, Acc: 75.37%\n",
      "\n",
      " [=============================>]  Step: 166ms | Tot: 6s722ms | Train Epoch: 72, Loss: 0.000000, Acc: 100.00 391/391 \n",
      "\n",
      "Test Loss: 0.0171, Acc: 75.37%\n",
      "\n",
      " [=============================>]  Step: 167ms | Tot: 6s668ms | Train Epoch: 73, Loss: 0.000000, Acc: 100.00 391/391 \n",
      "\n",
      "Test Loss: 0.0173, Acc: 75.38%\n",
      "\n",
      " [=============================>]  Step: 166ms | Tot: 6s616ms | Train Epoch: 74, Loss: 0.000000, Acc: 100.00 391/391 \n",
      "\n",
      "Test Loss: 0.0171, Acc: 75.46%\n",
      "\n",
      " [=============================>]  Step: 166ms | Tot: 6s879ms | Train Epoch: 75, Loss: 0.000000, Acc: 100.00 391/391 \n",
      "\n",
      "Test Loss: 0.0175, Acc: 75.52%\n",
      "\n",
      " [=============================>]  Step: 167ms | Tot: 6s729ms | Train Epoch: 76, Loss: 0.000000, Acc: 100.00 391/391 \n",
      "\n",
      "Test Loss: 0.0174, Acc: 75.53%\n",
      "\n",
      " [=============================>]  Step: 169ms | Tot: 6s824ms | Train Epoch: 77, Loss: 0.000001, Acc: 100.00 391/391 \n",
      "\n",
      "Test Loss: 0.0174, Acc: 75.50%\n",
      "\n",
      " [=============================>]  Step: 180ms | Tot: 6s809ms | Train Epoch: 78, Loss: 0.000000, Acc: 100.00 391/391 \n",
      "\n",
      "Test Loss: 0.0171, Acc: 75.38%\n",
      "\n",
      " [=============================>]  Step: 171ms | Tot: 6s850ms | Train Epoch: 79, Loss: 0.000000, Acc: 100.00 391/391 \n",
      "\n",
      "Test Loss: 0.0174, Acc: 75.40%\n",
      "\n",
      " [=============================>]  Step: 166ms | Tot: 6s748ms | Train Epoch: 80, Loss: 0.000000, Acc: 100.00 391/391 \n",
      "\n",
      "Test Loss: 0.0171, Acc: 75.56%\n",
      "\n",
      " [=============================>]  Step: 168ms | Tot: 6s668ms | Train Epoch: 81, Loss: 0.000000, Acc: 100.00 391/391 \n",
      "\n",
      "Test Loss: 0.0177, Acc: 75.52%\n",
      "\n",
      " [=============================>]  Step: 167ms | Tot: 6s756ms | Train Epoch: 82, Loss: 0.000000, Acc: 100.00 391/391 \n",
      "\n",
      "Test Loss: 0.0172, Acc: 75.59%\n",
      "\n",
      " [=============================>]  Step: 165ms | Tot: 6s547ms | Train Epoch: 83, Loss: 0.000000, Acc: 100.00 391/391 \n",
      "\n",
      "Test Loss: 0.0172, Acc: 75.61%\n",
      "\n",
      " [=============================>]  Step: 166ms | Tot: 6s624ms | Train Epoch: 84, Loss: 0.000000, Acc: 100.00 391/391 \n",
      "\n",
      "Test Loss: 0.0173, Acc: 75.58%\n",
      "\n",
      " [=============================>]  Step: 166ms | Tot: 6s781ms | Train Epoch: 85, Loss: 0.000000, Acc: 100.00 391/391 \n",
      "\n",
      "Test Loss: 0.0171, Acc: 75.44%\n",
      "\n",
      " [=============================>]  Step: 166ms | Tot: 6s667ms | Train Epoch: 86, Loss: 0.000000, Acc: 100.00 391/391 \n",
      "\n",
      "Test Loss: 0.0173, Acc: 75.54%\n",
      "\n",
      " [=============================>]  Step: 166ms | Tot: 6s771ms | Train Epoch: 87, Loss: 0.000000, Acc: 100.00 391/391 =====================>.......]  Step: 200ms | Tot: 5s19ms | Train Epoch: 87, Loss: 0.000000, Acc: 74.50 291/391 \n",
      "\n",
      "Test Loss: 0.0171, Acc: 75.51%\n",
      "\n",
      " [=============================>]  Step: 166ms | Tot: 6s664ms | Train Epoch: 88, Loss: 0.000000, Acc: 100.00 391/391 \n",
      "\n",
      "Test Loss: 0.0172, Acc: 75.54%\n",
      "\n",
      " [=============================>]  Step: 167ms | Tot: 6s693ms | Train Epoch: 89, Loss: 0.000000, Acc: 100.00 391/391 \n",
      "\n",
      "Test Loss: 0.0172, Acc: 75.54%\n",
      "\n",
      " [=============================>]  Step: 169ms | Tot: 6s770ms | Train Epoch: 90, Loss: 0.000000, Acc: 100.00 391/391 \n",
      "\n",
      "Test Loss: 0.0172, Acc: 75.35%\n",
      "\n",
      " [=============================>]  Step: 165ms | Tot: 6s680ms | Train Epoch: 91, Loss: 0.000000, Acc: 100.00 391/391 \n",
      "\n",
      "Test Loss: 0.0173, Acc: 75.36%\n",
      "\n",
      " [=============================>]  Step: 170ms | Tot: 6s693ms | Train Epoch: 92, Loss: 0.000000, Acc: 100.00 391/391 \n",
      "\n",
      "Test Loss: 0.0171, Acc: 75.63%\n",
      "\n",
      " [=============================>]  Step: 171ms | Tot: 6s745ms | Train Epoch: 93, Loss: 0.000000, Acc: 100.00 391/391 \n",
      "\n",
      "Test Loss: 0.0172, Acc: 75.40%\n",
      "\n",
      " [=============================>]  Step: 166ms | Tot: 6s805ms | Train Epoch: 94, Loss: 0.000000, Acc: 100.00 391/391 \n",
      "\n",
      "Test Loss: 0.0171, Acc: 75.48%\n",
      "\n",
      " [=============================>]  Step: 166ms | Tot: 6s739ms | Train Epoch: 95, Loss: 0.000000, Acc: 100.00 391/391 \n",
      "\n",
      "Test Loss: 0.0172, Acc: 75.40%\n",
      "\n",
      " [=============================>]  Step: 167ms | Tot: 6s717ms | Train Epoch: 96, Loss: 0.000000, Acc: 100.00 391/391  \n",
      "\n",
      "Test Loss: 0.0172, Acc: 75.55%\n",
      "\n",
      " [=============================>]  Step: 167ms | Tot: 6s804ms | Train Epoch: 97, Loss: 0.000000, Acc: 100.00 391/391 \n",
      "\n",
      "Test Loss: 0.0172, Acc: 75.54%\n",
      "\n",
      " [=============================>]  Step: 167ms | Tot: 6s715ms | Train Epoch: 98, Loss: 0.000000, Acc: 100.00 391/391 \n",
      "\n",
      "Test Loss: 0.0172, Acc: 75.49%\n",
      "\n",
      " [=============================>]  Step: 171ms | Tot: 6s800ms | Train Epoch: 99, Loss: 0.000000, Acc: 100.00 391/391 \n",
      "\n",
      "Test Loss: 0.0170, Acc: 75.63%\n",
      "\n",
      " [=============================>]  Step: 167ms | Tot: 6s874ms | Train Epoch: 100, Loss: 0.000000, Acc: 100.00 391/391 \n",
      "\n",
      "Test Loss: 0.0174, Acc: 75.48%\n",
      "\n",
      "Elapsed time: 0:13:39.141099\n",
      "cat vs.  dog\n",
      "ship vs.  ship\n",
      "ship vs.  ship\n",
      "airplane vs.  airplane\n",
      "frog vs.  deer\n",
      "frog vs.  frog\n",
      "automobile vs.  automobile\n",
      "frog vs.  frog\n"
     ]
    },
    {
     "data": {
      "text/html": [
       "Waiting for W&B process to finish... <strong style=\"color:green\">(success).</strong>"
      ],
      "text/plain": [
       "<IPython.core.display.HTML object>"
      ]
     },
     "metadata": {},
     "output_type": "display_data"
    },
    {
     "data": {
      "text/html": [
       "<style>\n",
       "    table.wandb td:nth-child(1) { padding: 0 10px; text-align: left ; width: auto;} td:nth-child(2) {text-align: left ; width: 100%}\n",
       "    .wandb-row { display: flex; flex-direction: row; flex-wrap: wrap; justify-content: flex-start; width: 100% }\n",
       "    .wandb-col { display: flex; flex-direction: column; flex-basis: 100%; flex: 1; padding: 10px; }\n",
       "    </style>\n",
       "<div class=\"wandb-row\"><div class=\"wandb-col\"><h3>Run history:</h3><br/><table class=\"wandb\"><tr><td>Learning rate</td><td>████████▇▇▇▇▇▆▆▆▆▅▅▅▄▄▄▄▃▃▃▃▂▂▂▂▂▁▁▁▁▁▁▁</td></tr><tr><td>Test accuracy</td><td>▁▃▄▆▅▂▆▆▇▇▇▇█▇▇█████████████████████████</td></tr><tr><td>Test loss</td><td>▂▂▁▁▃█▄▅▄▄▅▆▅▆▇▆▇▇▇▇▇▇▇▇▇▇▇▇▇▇▇▇▇▇▇▇▇▇▇▇</td></tr><tr><td>Train accuracy</td><td>▁▄▆▆▇▇██████████████████████████████████</td></tr><tr><td>Train loss</td><td>█▅▃▃▂▂▁▁▁▁▁▁▁▁▁▁▁▁▁▁▁▁▁▁▁▁▁▁▁▁▁▁▁▁▁▁▁▁▁▁</td></tr></table><br/></div><div class=\"wandb-col\"><h3>Run summary:</h3><br/><table class=\"wandb\"><tr><td>Best accuracy</td><td>75.63</td></tr><tr><td>Elapsed train time</td><td>0:13:39.141099</td></tr><tr><td>Learning rate</td><td>2e-05</td></tr><tr><td>Test accuracy</td><td>75.48</td></tr><tr><td>Test loss</td><td>0.01735</td></tr><tr><td>Train accuracy</td><td>100.0</td></tr><tr><td>Train loss</td><td>0.0</td></tr></table><br/></div></div>"
      ],
      "text/plain": [
       "<IPython.core.display.HTML object>"
      ]
     },
     "metadata": {},
     "output_type": "display_data"
    },
    {
     "data": {
      "text/html": [
       "Synced <strong style=\"color:#cdcd00\">icy-night-5</strong>: <a href=\"https://wandb.ai/upeee/wandb-project/runs/2yul34cq\" target=\"_blank\">https://wandb.ai/upeee/wandb-project/runs/2yul34cq</a><br/>Synced 7 W&B file(s), 1 media file(s), 9 artifact file(s) and 0 other file(s)"
      ],
      "text/plain": [
       "<IPython.core.display.HTML object>"
      ]
     },
     "metadata": {},
     "output_type": "display_data"
    },
    {
     "data": {
      "text/html": [
       "Find logs at: <code>./wandb/run-20221006_082943-2yul34cq/logs</code>"
      ],
      "text/plain": [
       "<IPython.core.display.HTML object>"
      ]
     },
     "metadata": {},
     "output_type": "display_data"
    }
   ],
   "source": [
    "run.display(height=1000)\n",
    "\n",
    "start_time = datetime.datetime.now()\n",
    "best_acc = 0\n",
    "for epoch in range(wandb.config[\"epochs\"]):\n",
    "    train_acc, train_loss = train(epoch)\n",
    "    test_acc, test_loss = test()\n",
    "    if test_acc > best_acc:\n",
    "        wandb.run.summary[\"Best accuracy\"] = test_acc\n",
    "        best_acc = test_acc\n",
    "        torch.save(model, \"resnet18_best_acc.pth\")\n",
    "    wandb.log({\n",
    "        \"Train accuracy\": train_acc,\n",
    "        \"Test accuracy\": test_acc,\n",
    "        \"Train loss\": train_loss,\n",
    "        \"Test loss\": test_loss,\n",
    "        \"Learning rate\": optimizer.param_groups[0]['lr']\n",
    "    })\n",
    "\n",
    "elapsed_time = datetime.datetime.now() - start_time\n",
    "print(\"Elapsed time: %s\" % elapsed_time)\n",
    "wandb.run.summary[\"Elapsed train time\"] = str(elapsed_time)\n",
    "\n",
    "model.eval()\n",
    "with torch.no_grad():\n",
    "  pred = torch.argmax(model(image.to(device)), dim=1).cpu().numpy()\n",
    "\n",
    "final_pred = []\n",
    "for i in range(8):\n",
    "    final_pred.append(label_human[pred[i]])\n",
    "    print(label_human[label[i]], \"vs. \",  final_pred[i])\n",
    "\n",
    "table_test.add_column(name=\"Final Pred Label\", data=final_pred)\n",
    "\n",
    "wandb.log({\"Test data\": table_test})\n",
    "\n",
    "wandb.finish()"
   ]
  },
  {
   "cell_type": "markdown",
   "metadata": {},
   "source": [
    "### Load the best performing model\n",
    "\n",
    "In the following code, we load the best performing model. The model is saved in `./resnet18_best_acc.pth`. The average accuracy of the model is the same as the one in the previous section."
   ]
  },
  {
   "cell_type": "code",
   "execution_count": 11,
   "metadata": {},
   "outputs": [
    {
     "name": "stdout",
     "output_type": "stream",
     "text": [
      "\n",
      "Test Loss: 0.0141, Acc: 74.69%\n",
      "\n",
      "Best accuracy: 74.69\n"
     ]
    }
   ],
   "source": [
    "model = torch.load(\"resnet18_best_acc.pth\")\n",
    "accuracy, _ = test()\n",
    "print(\"Best accuracy: %.2f\" % accuracy)"
   ]
  },
  {
   "cell_type": "code",
   "execution_count": null,
   "metadata": {},
   "outputs": [],
   "source": []
  }
 ],
 "metadata": {
  "kernelspec": {
   "display_name": "Python 3.9.12 ('voice')",
   "language": "python",
   "name": "python3"
  },
  "language_info": {
   "codemirror_mode": {
    "name": "ipython",
    "version": 3
   },
   "file_extension": ".py",
   "mimetype": "text/x-python",
   "name": "python",
   "nbconvert_exporter": "python",
   "pygments_lexer": "ipython3",
   "version": "3.9.12"
  },
  "vscode": {
   "interpreter": {
    "hash": "975196f818cef4d8418ca9caaf131be767e393cdee268c01707e7bb8d73c6de2"
   }
  }
 },
 "nbformat": 4,
 "nbformat_minor": 2
}
