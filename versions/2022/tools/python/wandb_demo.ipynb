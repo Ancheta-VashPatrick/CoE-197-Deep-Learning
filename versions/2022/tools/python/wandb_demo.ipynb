{
 "cells": [
  {
   "cell_type": "markdown",
   "metadata": {},
   "source": [
    "### Weights and Biases (`wandb`) Demo\n",
    "\n",
    "In deep learning, we perform a lot of model training especially for novel neural architectures. The problem is deep learning frameworks like PyTorch do not provide sufficient tools to visualize input data, track the progress of our experiments, log data, and visualize the outputs. \n",
    "\n",
    "`wandb` addresses this problem. In this demo, we show how to use `wandb` to visualize input data, prediction, and training progress in the form value of loss function and validation accuracy. \n",
    "\n",
    "**Note**: Before running this demo, please make sure that you have `wandb.ai` free account. \n",
    "\n",
    "Let us install `wandb`."
   ]
  },
  {
   "cell_type": "code",
   "execution_count": 40,
   "metadata": {},
   "outputs": [
    {
     "name": "stdout",
     "output_type": "stream",
     "text": [
      "Requirement already satisfied: wandb in /home/rowel/anaconda3/lib/python3.7/site-packages (0.12.11)\n",
      "Requirement already satisfied: PyYAML in /home/rowel/anaconda3/lib/python3.7/site-packages (from wandb) (6.0)\n",
      "Requirement already satisfied: pathtools in /home/rowel/anaconda3/lib/python3.7/site-packages (from wandb) (0.1.2)\n",
      "Requirement already satisfied: docker-pycreds>=0.4.0 in /home/rowel/anaconda3/lib/python3.7/site-packages (from wandb) (0.4.0)\n",
      "Requirement already satisfied: setproctitle in /home/rowel/anaconda3/lib/python3.7/site-packages (from wandb) (1.2.2)\n",
      "Requirement already satisfied: psutil>=5.0.0 in /home/rowel/anaconda3/lib/python3.7/site-packages (from wandb) (5.8.0)\n",
      "Requirement already satisfied: requests<3,>=2.0.0 in /home/rowel/anaconda3/lib/python3.7/site-packages (from wandb) (2.27.1)\n",
      "Requirement already satisfied: python-dateutil>=2.6.1 in /home/rowel/anaconda3/lib/python3.7/site-packages (from wandb) (2.8.2)\n",
      "Requirement already satisfied: promise<3,>=2.0 in /home/rowel/anaconda3/lib/python3.7/site-packages (from wandb) (2.3)\n",
      "Requirement already satisfied: protobuf>=3.12.0 in /home/rowel/anaconda3/lib/python3.7/site-packages (from wandb) (3.19.4)\n",
      "Requirement already satisfied: Click!=8.0.0,>=7.0 in /home/rowel/anaconda3/lib/python3.7/site-packages (from wandb) (8.0.4)\n",
      "Requirement already satisfied: yaspin>=1.0.0 in /home/rowel/anaconda3/lib/python3.7/site-packages (from wandb) (2.1.0)\n",
      "Requirement already satisfied: GitPython>=1.0.0 in /home/rowel/anaconda3/lib/python3.7/site-packages (from wandb) (3.1.27)\n",
      "Requirement already satisfied: sentry-sdk>=1.0.0 in /home/rowel/anaconda3/lib/python3.7/site-packages (from wandb) (1.5.6)\n",
      "Requirement already satisfied: shortuuid>=0.5.0 in /home/rowel/anaconda3/lib/python3.7/site-packages (from wandb) (1.0.8)\n",
      "Requirement already satisfied: six>=1.13.0 in /home/rowel/anaconda3/lib/python3.7/site-packages (from wandb) (1.16.0)\n",
      "Requirement already satisfied: importlib-metadata in /home/rowel/anaconda3/lib/python3.7/site-packages (from Click!=8.0.0,>=7.0->wandb) (4.8.2)\n",
      "Requirement already satisfied: typing-extensions>=3.7.4.3 in /home/rowel/anaconda3/lib/python3.7/site-packages (from GitPython>=1.0.0->wandb) (3.10.0.2)\n",
      "Requirement already satisfied: gitdb<5,>=4.0.1 in /home/rowel/anaconda3/lib/python3.7/site-packages (from GitPython>=1.0.0->wandb) (4.0.9)\n",
      "Requirement already satisfied: smmap<6,>=3.0.1 in /home/rowel/anaconda3/lib/python3.7/site-packages (from gitdb<5,>=4.0.1->GitPython>=1.0.0->wandb) (5.0.0)\n",
      "Requirement already satisfied: idna<4,>=2.5 in /home/rowel/anaconda3/lib/python3.7/site-packages (from requests<3,>=2.0.0->wandb) (3.3)\n",
      "Requirement already satisfied: certifi>=2017.4.17 in /home/rowel/anaconda3/lib/python3.7/site-packages (from requests<3,>=2.0.0->wandb) (2021.10.8)\n",
      "Requirement already satisfied: urllib3<1.27,>=1.21.1 in /home/rowel/anaconda3/lib/python3.7/site-packages (from requests<3,>=2.0.0->wandb) (1.26.8)\n",
      "Requirement already satisfied: charset-normalizer~=2.0.0 in /home/rowel/anaconda3/lib/python3.7/site-packages (from requests<3,>=2.0.0->wandb) (2.0.4)\n",
      "Requirement already satisfied: termcolor<2.0.0,>=1.1.0 in /home/rowel/anaconda3/lib/python3.7/site-packages (from yaspin>=1.0.0->wandb) (1.1.0)\n",
      "Requirement already satisfied: zipp>=0.5 in /home/rowel/anaconda3/lib/python3.7/site-packages (from importlib-metadata->Click!=8.0.0,>=7.0->wandb) (3.7.0)\n"
     ]
    }
   ],
   "source": [
    "!pip install wandb"
   ]
  },
  {
   "cell_type": "markdown",
   "metadata": {},
   "source": [
    "**Import** the required modules."
   ]
  },
  {
   "cell_type": "code",
   "execution_count": 176,
   "metadata": {},
   "outputs": [],
   "source": [
    "import torch\n",
    "import torchvision\n",
    "import wandb\n",
    "import datetime\n",
    "from torch.optim import SGD\n",
    "from torch.optim.lr_scheduler import CosineAnnealingLR\n",
    "from torch.utils.data import DataLoader\n",
    "from torchvision import datasets, transforms\n",
    "from ui import progress_bar"
   ]
  },
  {
   "cell_type": "markdown",
   "metadata": {},
   "source": [
    "**Login to and initialize** `wandb`. You will need to use your `wandb` API to run this demo.\n",
    "\n",
    "As the config indicates, we will train our model using `cifar10` dataset, learning rate of `0.1`, and batch size of `128` for `100` epochs. \n",
    "\n",
    "epochs means a complete sampling of the dataset (train). In the `wandb` plots, step is the term used instead of epoch.  \n",
    "batch size is the number of samples per training step.\n"
   ]
  },
  {
   "cell_type": "code",
   "execution_count": 178,
   "metadata": {},
   "outputs": [
    {
     "name": "stderr",
     "output_type": "stream",
     "text": [
      "\u001b[34m\u001b[1mwandb\u001b[0m: \u001b[33mWARNING\u001b[0m Calling wandb.login() after wandb.init() has no effect.\n"
     ]
    },
    {
     "data": {
      "text/html": [
       "Finishing last run (ID:y34ukr3t) before initializing another..."
      ],
      "text/plain": [
       "<IPython.core.display.HTML object>"
      ]
     },
     "metadata": {},
     "output_type": "display_data"
    },
    {
     "name": "stdout",
     "output_type": "stream",
     "text": [
      "\n"
     ]
    },
    {
     "data": {
      "text/html": [
       "Waiting for W&B process to finish... <strong style=\"color:green\">(success).</strong>"
      ],
      "text/plain": [
       "<IPython.core.display.HTML object>"
      ]
     },
     "metadata": {},
     "output_type": "display_data"
    },
    {
     "data": {
      "application/vnd.jupyter.widget-view+json": {
       "model_id": "",
       "version_major": 2,
       "version_minor": 0
      },
      "text/plain": [
       "VBox(children=(Label(value='0.193 MB of 0.193 MB uploaded (0.027 MB deduped)\\r'), FloatProgress(value=1.0, max…"
      ]
     },
     "metadata": {},
     "output_type": "display_data"
    },
    {
     "data": {
      "text/html": [
       "W&B sync reduced upload amount by 7.1%             "
      ],
      "text/plain": [
       "<IPython.core.display.HTML object>"
      ]
     },
     "metadata": {},
     "output_type": "display_data"
    },
    {
     "data": {
      "text/html": [
       "Synced <strong style=\"color:#cdcd00\">noble-firebrand-28</strong>: <a href=\"https://wandb.ai/upeee/wandb-project/runs/y34ukr3t\" target=\"_blank\">https://wandb.ai/upeee/wandb-project/runs/y34ukr3t</a><br/>Synced 7 W&B file(s), 0 media file(s), 2 artifact file(s) and 1 other file(s)"
      ],
      "text/plain": [
       "<IPython.core.display.HTML object>"
      ]
     },
     "metadata": {},
     "output_type": "display_data"
    },
    {
     "data": {
      "text/html": [
       "Find logs at: <code>./wandb/run-20220310_175550-y34ukr3t/logs</code>"
      ],
      "text/plain": [
       "<IPython.core.display.HTML object>"
      ]
     },
     "metadata": {},
     "output_type": "display_data"
    },
    {
     "data": {
      "text/html": [
       "Successfully finished last run (ID:y34ukr3t). Initializing new run:<br/>"
      ],
      "text/plain": [
       "<IPython.core.display.HTML object>"
      ]
     },
     "metadata": {},
     "output_type": "display_data"
    },
    {
     "name": "stderr",
     "output_type": "stream",
     "text": [
      "2022-03-10 17:56:17.086078: W tensorflow/stream_executor/platform/default/dso_loader.cc:60] Could not load dynamic library 'libcudart.so.11.0'; dlerror: libcudart.so.11.0: cannot open shared object file: No such file or directory\n",
      "2022-03-10 17:56:17.086122: I tensorflow/stream_executor/cuda/cudart_stub.cc:29] Ignore above cudart dlerror if you do not have a GPU set up on your machine.\n"
     ]
    },
    {
     "data": {
      "text/html": [
       "Tracking run with wandb version 0.12.11"
      ],
      "text/plain": [
       "<IPython.core.display.HTML object>"
      ]
     },
     "metadata": {},
     "output_type": "display_data"
    },
    {
     "data": {
      "text/html": [
       "Run data is saved locally in <code>/home/rowel/github/roatienza/Deep-Learning-Experiments/versions/2022/tools/python/wandb/run-20220310_175601-2mdi22vn</code>"
      ],
      "text/plain": [
       "<IPython.core.display.HTML object>"
      ]
     },
     "metadata": {},
     "output_type": "display_data"
    },
    {
     "data": {
      "text/html": [
       "Syncing run <strong><a href=\"https://wandb.ai/upeee/wandb-project/runs/2mdi22vn\" target=\"_blank\">graceful-frog-29</a></strong> to <a href=\"https://wandb.ai/upeee/wandb-project\" target=\"_blank\">Weights & Biases</a> (<a href=\"https://wandb.me/run\" target=\"_blank\">docs</a>)<br/>"
      ],
      "text/plain": [
       "<IPython.core.display.HTML object>"
      ]
     },
     "metadata": {},
     "output_type": "display_data"
    },
    {
     "name": "stdout",
     "output_type": "stream",
     "text": [
      "{'learning_rate': 0.1, 'epochs': 100, 'batch_size': 128, 'dataset': 'cifar10'}\n"
     ]
    }
   ],
   "source": [
    "wandb.login()\n",
    "config = {\n",
    "  \"learning_rate\": 0.1,\n",
    "  \"epochs\": 100,\n",
    "  \"batch_size\": 128,\n",
    "  \"dataset\": \"cifar10\"\n",
    "}\n",
    "run = wandb.init(project=\"wandb-project\", entity=\"upeee\", config=config)\n",
    "\n",
    "print(wandb.config)"
   ]
  },
  {
   "cell_type": "markdown",
   "metadata": {},
   "source": [
    "### Build the model\n",
    "\n",
    "Use a ResNet18 from `torchvision`. Remove the last layer that was used for 1k-class ImageNet classification. Since we will use CIFAR10, the last layer is replaced by a linear layer with 10 outputs. We will train the model from scratch, so we set `pretrained=False`."
   ]
  },
  {
   "cell_type": "code",
   "execution_count": 179,
   "metadata": {},
   "outputs": [
    {
     "data": {
      "text/plain": [
       "[]"
      ]
     },
     "execution_count": 179,
     "metadata": {},
     "output_type": "execute_result"
    }
   ],
   "source": [
    "device = torch.device(\"cuda\" if torch.cuda.is_available() else \"cpu\")\n",
    "model = torchvision.models.resnet18(pretrained=False, progress=True)\n",
    "\n",
    "model.fc = torch.nn.Linear(model.fc.in_features, 10)  \n",
    "model.to(device)\n",
    "\n",
    "# watch model gradients during training\n",
    "wandb.watch(model)"
   ]
  },
  {
   "cell_type": "markdown",
   "metadata": {},
   "source": [
    "### Loss function, Optimizer, Scheduler and DataLoader\n",
    "\n",
    "The appropriate loss function is cross entropy for multi-category classfication. We use `SGD` or stochastic gradient descent for optimization. Our learning rate that starts at `0.1` decays to zero at the end of total number of epochs. The decay is controlled by a cosine learning rate decay scheduler. \n",
    "\n",
    "Finally, we use `cifar10` dataset that is available in `torchvision`. We will discuss datasets and dataloaders in our future demo. For the meantime, we can treat dataloader as a data strcuture that dispenses batch size data from either the train or test split of the dataset."
   ]
  },
  {
   "cell_type": "code",
   "execution_count": 180,
   "metadata": {
    "scrolled": true
   },
   "outputs": [
    {
     "name": "stdout",
     "output_type": "stream",
     "text": [
      "Files already downloaded and verified\n",
      "Files already downloaded and verified\n"
     ]
    }
   ],
   "source": [
    "loss = torch.nn.CrossEntropyLoss()\n",
    "optimizer = SGD(model.parameters(), lr=wandb.config.learning_rate)\n",
    "scheduler = CosineAnnealingLR(optimizer, T_max=wandb.config.epochs)\n",
    "\n",
    "x_train = datasets.CIFAR10(root='./data', train=True, \n",
    "                           download=True, \n",
    "                           transform=transforms.ToTensor())\n",
    "x_test = datasets.CIFAR10(root='./data',\n",
    "                          train=False, \n",
    "                          download=True, \n",
    "                          transform=transforms.ToTensor())\n",
    "train_loader = DataLoader(x_train, \n",
    "                          batch_size=wandb.config.batch_size, \n",
    "                          shuffle=True, \n",
    "                          num_workers=2)\n",
    "test_loader = DataLoader(x_test, \n",
    "                         batch_size=wandb.config.batch_size, \n",
    "                         shuffle=False, \n",
    "                         num_workers=2)"
   ]
  },
  {
   "cell_type": "markdown",
   "metadata": {},
   "source": [
    "### Visulaizing sample data from test split\n",
    "\n",
    "We can visualize data from the test split by getting a batch sample: `image, label = iter(test_loader).next()`. We use `wandb` table to create a column for image, grount truth label and initial model predicted label."
   ]
  },
  {
   "cell_type": "code",
   "execution_count": 181,
   "metadata": {},
   "outputs": [
    {
     "name": "stdout",
     "output_type": "stream",
     "text": [
      "cat vs.  horse\n",
      "ship vs.  ship\n",
      "ship vs.  cat\n",
      "airplane vs.  deer\n",
      "frog vs.  ship\n",
      "frog vs.  ship\n",
      "automobile vs.  ship\n",
      "frog vs.  deer\n"
     ]
    }
   ],
   "source": [
    "\n",
    "label_human = [\"airplane\", \"automobile\", \"bird\", \"cat\", \"deer\", \"dog\", \"frog\", \"horse\", \"ship\", \"truck\"]\n",
    "\n",
    "table_test = wandb.Table(columns=['Image', \"Ground Truth\", \"Initial Pred Label\",])\n",
    "\n",
    "image, label = iter(test_loader).next()\n",
    "with torch.no_grad():\n",
    "  pred = torch.argmax(model(image.to(device)), dim=1).cpu().numpy()\n",
    "\n",
    "for i in range(8):\n",
    "  table_test.add_data(wandb.Image(image[i]),\n",
    "                      label_human[label[i]], \n",
    "                      label_human[pred[i]])\n",
    "  print(label_human[label[i]], \"vs. \",  label_human[pred[i]])\n",
    "\n",
    "#wandb.log({\"Test data\": table_test})\n",
    "#wandb.run"
   ]
  },
  {
   "cell_type": "markdown",
   "metadata": {},
   "source": [
    "### The train loop\n",
    "\n",
    "At every epoch, we will run the train loop for the model."
   ]
  },
  {
   "cell_type": "code",
   "execution_count": 182,
   "metadata": {},
   "outputs": [],
   "source": [
    "def train(epoch):\n",
    "  model.train()\n",
    "  train_loss = 0\n",
    "  correct = 0\n",
    "  train_samples = 0\n",
    "\n",
    "  # sample a batch. compute loss and backpropagate\n",
    "  for batch_idx, (data, target) in enumerate(train_loader):\n",
    "    optimizer.zero_grad()\n",
    "    target = target.to(device)\n",
    "    output = model(data.to(device))\n",
    "    loss_value = loss(output, target)\n",
    "    loss_value.backward()\n",
    "    optimizer.step()\n",
    "    scheduler.step(epoch)\n",
    "    train_loss += loss_value.item()\n",
    "    train_samples += len(data)\n",
    "    pred = output.argmax(dim=1, keepdim=True)\n",
    "    correct += pred.eq(target.view_as(pred)).sum().item()\n",
    "    if batch_idx % 10 == 0:\n",
    "      accuracy = 100. * correct / len(train_loader.dataset)\n",
    "      progress_bar(batch_idx,\n",
    "                   len(train_loader),\n",
    "                  'Train Epoch: {} \\tLoss: {:.6f}\\tAcc: {:.2f}%%'.format(epoch+1, \n",
    "                  train_loss/train_samples, accuracy))\n",
    "  \n",
    "  train_loss /= len(train_loader.dataset)\n",
    "  accuracy = 100. * correct / len(train_loader.dataset)\n",
    "\n",
    "  return accuracy, train_loss"
   ]
  },
  {
   "cell_type": "markdown",
   "metadata": {},
   "source": [
    "### The validation loop\n",
    "\n",
    "After every epoch, we will run the validation loop for the model. In this way, we can track the progress of our model training."
   ]
  },
  {
   "cell_type": "code",
   "execution_count": 183,
   "metadata": {},
   "outputs": [],
   "source": [
    "def test():\n",
    "  model.eval()\n",
    "  test_loss = 0\n",
    "  correct = 0\n",
    "  with torch.no_grad():\n",
    "    for data, target in test_loader:\n",
    "      output = model(data.to(device))   \n",
    "      target = target.to(device)\n",
    "\n",
    "      test_loss += loss(output, target).item()\n",
    "      pred = output.argmax(dim=1, keepdim=True)\n",
    "      correct += pred.eq(target.view_as(pred)).sum().item()\n",
    "\n",
    "  test_loss /= len(test_loader.dataset)\n",
    "  accuracy = 100. * correct / len(test_loader.dataset)\n",
    "\n",
    "  print('\\nTest Loss: {:.4f}, Acc: {:.2f}%\\n'.format(test_loss, accuracy))\n",
    "\n",
    "  return accuracy, test_loss"
   ]
  },
  {
   "cell_type": "markdown",
   "metadata": {},
   "source": [
    "### `wandb` plots\n",
    "\n",
    "Finally, we will use `wandb` to visualize the training progress. We will use the following plots:\n",
    "- Model gradients (`wandb.watch(model)`)\n",
    "- Training loss (`\"train loss\": train_loss,`)\n",
    "- Validation accuracy (`\"Test accuracy\": accuracy,`)\n",
    "- Learning rate which decreases over epochs (`\"Learning rate\": optimizer.param_groups[0]['lr']`)\n",
    "\n",
    "We re-use the earlier `table_test` to see the final prediction."
   ]
  },
  {
   "cell_type": "code",
   "execution_count": 184,
   "metadata": {
    "scrolled": false
   },
   "outputs": [
    {
     "name": "stderr",
     "output_type": "stream",
     "text": [
      "/home/rowel/anaconda3/lib/python3.7/site-packages/IPython/core/display.py:724: UserWarning: Consider using IPython.display.IFrame instead\n",
      "  warnings.warn(\"Consider using IPython.display.IFrame instead\")\n"
     ]
    },
    {
     "data": {
      "text/html": [
       "<iframe src=\"https://wandb.ai/upeee/wandb-project/runs/2mdi22vn?jupyter=true\" style=\"border:none;width:100%;height:720px;\"></iframe>"
      ],
      "text/plain": [
       "<IPython.core.display.HTML object>"
      ]
     },
     "metadata": {},
     "output_type": "display_data"
    },
    {
     "name": "stdout",
     "output_type": "stream",
     "text": [
      " [>................................................................]  Step: 2m7s | Tot: 1ms | Train Epoch: 0 \tLoss: 0.019742\tAcc: 0.02%%\b\b\b\b\b\b\b\b\b\b\b\b\b\b\b\b\b\b\b\b\b\b\b\b\b\b\b\b\b\b\b\b\b\b\b\b\b\b\b\b\b\b\b\b\b\b\b\b\b\b 1/391 \r"
     ]
    },
    {
     "name": "stderr",
     "output_type": "stream",
     "text": [
      "/home/rowel/anaconda3/lib/python3.7/site-packages/torch/optim/lr_scheduler.py:154: UserWarning: The epoch parameter in `scheduler.step()` was not necessary and is being deprecated where possible. Please use `scheduler.step()` to step the scheduler. During the deprecation, if epoch is different from None, the closed form is used instead of the new chainable form, where available. Please open an issue if you are unable to replicate your use case: https://github.com/pytorch/pytorch/issues/new/choose.\n",
      "  warnings.warn(EPOCH_DEPRECATION_WARNING, UserWarning)\n"
     ]
    },
    {
     "name": "stdout",
     "output_type": "stream",
     "text": [
      " [================================================================>]  Step: 176ms | Tot: 6s857ms | Train Epoch: 0 \tLoss: 0.013045\tAcc: 43.21 391/391 \n",
      "\n",
      "Test set: Average loss: 0.0162, Accuracy: 3392/10000 (34%)\n",
      "\n",
      " [================================================================>]  Step: 160ms | Tot: 6s836ms | Train Epoch: 1 \tLoss: 0.008961\tAcc: 59.36 391/391 \n",
      "\n",
      "Test set: Average loss: 0.0132, Accuracy: 4539/10000 (45%)\n",
      "\n",
      " [================================================================>]  Step: 163ms | Tot: 6s790ms | Train Epoch: 2 \tLoss: 0.007276\tAcc: 67.18 391/391 \n",
      "\n",
      "Test set: Average loss: 0.0112, Accuracy: 5218/10000 (52%)\n",
      "\n",
      " [================================================================>]  Step: 163ms | Tot: 6s594ms | Train Epoch: 3 \tLoss: 0.006105\tAcc: 72.54 391/391 \n",
      "\n",
      "Test set: Average loss: 0.0140, Accuracy: 5024/10000 (50%)\n",
      "\n",
      " [================================================================>]  Step: 164ms | Tot: 6s511ms | Train Epoch: 4 \tLoss: 0.005202\tAcc: 76.62 391/391 \n",
      "\n",
      "Test set: Average loss: 0.0125, Accuracy: 5369/10000 (54%)\n",
      "\n",
      " [================================================================>]  Step: 166ms | Tot: 6s639ms | Train Epoch: 5 \tLoss: 0.004421\tAcc: 79.98 391/391 \n",
      "\n",
      "Test set: Average loss: 0.0102, Accuracy: 5912/10000 (59%)\n",
      "\n",
      " [================================================================>]  Step: 163ms | Tot: 6s648ms | Train Epoch: 6 \tLoss: 0.003655\tAcc: 83.59 391/391 \n",
      "\n",
      "Test set: Average loss: 0.0095, Accuracy: 6450/10000 (64%)\n",
      "\n",
      " [================================================================>]  Step: 165ms | Tot: 6s675ms | Train Epoch: 7 \tLoss: 0.003026\tAcc: 86.27 391/391 \n",
      "\n",
      "Test set: Average loss: 0.0117, Accuracy: 5879/10000 (59%)\n",
      "\n",
      " [================================================================>]  Step: 162ms | Tot: 6s685ms | Train Epoch: 8 \tLoss: 0.002457\tAcc: 89.04 391/391 \n",
      "\n",
      "Test set: Average loss: 0.0134, Accuracy: 5816/10000 (58%)\n",
      "\n",
      " [================================================================>]  Step: 167ms | Tot: 6s756ms | Train Epoch: 9 \tLoss: 0.002069\tAcc: 90.73 391/391 \n",
      "\n",
      "Test set: Average loss: 0.0108, Accuracy: 6481/10000 (65%)\n",
      "\n",
      " [================================================================>]  Step: 168ms | Tot: 6s795ms | Train Epoch: 10 \tLoss: 0.001699\tAcc: 92.20 391/391 \n",
      "\n",
      "Test set: Average loss: 0.0106, Accuracy: 6657/10000 (67%)\n",
      "\n",
      " [================================================================>]  Step: 164ms | Tot: 6s746ms | Train Epoch: 11 \tLoss: 0.001355\tAcc: 93.79 391/391 \n",
      "\n",
      "Test set: Average loss: 0.0173, Accuracy: 5573/10000 (56%)\n",
      "\n",
      " [================================================================>]  Step: 168ms | Tot: 6s781ms | Train Epoch: 12 \tLoss: 0.001157\tAcc: 94.70 391/391 \n",
      "\n",
      "Test set: Average loss: 0.0108, Accuracy: 6918/10000 (69%)\n",
      "\n",
      " [================================================================>]  Step: 166ms | Tot: 6s676ms | Train Epoch: 13 \tLoss: 0.000893\tAcc: 96.06 391/391 \n",
      "\n",
      "Test set: Average loss: 0.0116, Accuracy: 6870/10000 (69%)\n",
      "\n",
      " [================================================================>]  Step: 162ms | Tot: 6s664ms | Train Epoch: 14 \tLoss: 0.000769\tAcc: 96.57 391/391 \n",
      "\n",
      "Test set: Average loss: 0.0126, Accuracy: 6865/10000 (69%)\n",
      "\n",
      " [================================================================>]  Step: 161ms | Tot: 6s734ms | Train Epoch: 15 \tLoss: 0.000724\tAcc: 96.78 391/391 \n",
      "\n",
      "Test set: Average loss: 0.0138, Accuracy: 6719/10000 (67%)\n",
      "\n",
      " [================================================================>]  Step: 162ms | Tot: 6s599ms | Train Epoch: 16 \tLoss: 0.000562\tAcc: 97.49 391/391 \n",
      "\n",
      "Test set: Average loss: 0.0125, Accuracy: 7023/10000 (70%)\n",
      "\n",
      " [================================================================>]  Step: 165ms | Tot: 6s735ms | Train Epoch: 17 \tLoss: 0.000501\tAcc: 97.75 391/391 \n",
      "\n",
      "Test set: Average loss: 0.0120, Accuracy: 7055/10000 (71%)\n",
      "\n",
      " [================================================================>]  Step: 167ms | Tot: 6s770ms | Train Epoch: 18 \tLoss: 0.000407\tAcc: 98.23 391/391 \n",
      "\n",
      "Test set: Average loss: 0.0117, Accuracy: 7225/10000 (72%)\n",
      "\n",
      " [================================================================>]  Step: 162ms | Tot: 6s765ms | Train Epoch: 19 \tLoss: 0.000335\tAcc: 98.51 391/391 \n",
      "\n",
      "Test set: Average loss: 0.0158, Accuracy: 6532/10000 (65%)\n",
      "\n",
      " [================================================================>]  Step: 161ms | Tot: 6s662ms | Train Epoch: 20 \tLoss: 0.000309\tAcc: 98.64 391/391 \n",
      "\n",
      "Test set: Average loss: 0.0183, Accuracy: 6302/10000 (63%)\n",
      "\n",
      " [================================================================>]  Step: 173ms | Tot: 6s740ms | Train Epoch: 21 \tLoss: 0.000262\tAcc: 98.84 391/391 \n",
      "\n",
      "Test set: Average loss: 0.0162, Accuracy: 6624/10000 (66%)\n",
      "\n",
      " [================================================================>]  Step: 163ms | Tot: 6s724ms | Train Epoch: 22 \tLoss: 0.000314\tAcc: 98.64 391/391 \n",
      "\n",
      "Test set: Average loss: 0.0128, Accuracy: 7170/10000 (72%)\n",
      "\n",
      " [================================================================>]  Step: 169ms | Tot: 6s809ms | Train Epoch: 23 \tLoss: 0.000214\tAcc: 99.06 391/391 \n",
      "\n",
      "Test set: Average loss: 0.0134, Accuracy: 7148/10000 (71%)\n",
      "\n",
      " [================================================================>]  Step: 163ms | Tot: 6s715ms | Train Epoch: 24 \tLoss: 0.000147\tAcc: 99.33 391/391 \n",
      "\n",
      "Test set: Average loss: 0.0134, Accuracy: 7281/10000 (73%)\n",
      "\n",
      " [================================================================>]  Step: 166ms | Tot: 6s757ms | Train Epoch: 25 \tLoss: 0.000154\tAcc: 99.34 391/391 \n",
      "\n",
      "Test set: Average loss: 0.0138, Accuracy: 7340/10000 (73%)\n",
      "\n",
      " [================================================================>]  Step: 165ms | Tot: 6s632ms | Train Epoch: 26 \tLoss: 0.000178\tAcc: 99.22 391/391 \n",
      "\n",
      "Test set: Average loss: 0.0140, Accuracy: 7274/10000 (73%)\n",
      "\n",
      " [================================================================>]  Step: 167ms | Tot: 6s765ms | Train Epoch: 27 \tLoss: 0.000159\tAcc: 99.36 391/391 \n",
      "\n",
      "Test set: Average loss: 0.0144, Accuracy: 7213/10000 (72%)\n",
      "\n",
      " [================================================================>]  Step: 165ms | Tot: 6s745ms | Train Epoch: 28 \tLoss: 0.000081\tAcc: 99.67 391/391 \n",
      "\n",
      "Test set: Average loss: 0.0142, Accuracy: 7354/10000 (74%)\n",
      "\n",
      " [================================================================>]  Step: 169ms | Tot: 6s745ms | Train Epoch: 29 \tLoss: 0.000060\tAcc: 99.73 391/391 39 81/391 \n",
      "\n",
      "Test set: Average loss: 0.0163, Accuracy: 7234/10000 (72%)\n",
      "\n",
      " [================================================================>]  Step: 168ms | Tot: 6s818ms | Train Epoch: 30 \tLoss: 0.000054\tAcc: 99.77 391/391 \n",
      "\n",
      "Test set: Average loss: 0.0153, Accuracy: 7342/10000 (73%)\n",
      "\n",
      " [================================================================>]  Step: 184ms | Tot: 6s699ms | Train Epoch: 31 \tLoss: 0.000058\tAcc: 99.75 391/391 \n",
      "\n",
      "Test set: Average loss: 0.0158, Accuracy: 7294/10000 (73%)\n",
      "\n",
      " [================================================================>]  Step: 167ms | Tot: 6s912ms | Train Epoch: 32 \tLoss: 0.000065\tAcc: 99.74 391/391 \n",
      "\n",
      "Test set: Average loss: 0.0153, Accuracy: 7337/10000 (73%)\n",
      "\n",
      " [================================================================>]  Step: 164ms | Tot: 6s737ms | Train Epoch: 33 \tLoss: 0.000037\tAcc: 99.85 391/391 \n",
      "\n",
      "Test set: Average loss: 0.0153, Accuracy: 7417/10000 (74%)\n",
      "\n",
      " [================================================================>]  Step: 170ms | Tot: 6s703ms | Train Epoch: 34 \tLoss: 0.000015\tAcc: 99.95 391/391 \n",
      "\n",
      "Test set: Average loss: 0.0155, Accuracy: 7400/10000 (74%)\n",
      "\n",
      " [================================================================>]  Step: 163ms | Tot: 6s735ms | Train Epoch: 35 \tLoss: 0.000014\tAcc: 99.94 391/391 \n",
      "\n",
      "Test set: Average loss: 0.0164, Accuracy: 7356/10000 (74%)\n",
      "\n",
      " [================================================================>]  Step: 168ms | Tot: 6s746ms | Train Epoch: 36 \tLoss: 0.000017\tAcc: 99.94 391/391 \n",
      "\n",
      "Test set: Average loss: 0.0165, Accuracy: 7391/10000 (74%)\n",
      "\n",
      " [================================================================>]  Step: 168ms | Tot: 6s664ms | Train Epoch: 37 \tLoss: 0.000014\tAcc: 99.94 391/391 \n",
      "\n",
      "Test set: Average loss: 0.0167, Accuracy: 7390/10000 (74%)\n",
      "\n",
      " [================================================================>]  Step: 167ms | Tot: 6s806ms | Train Epoch: 38 \tLoss: 0.000008\tAcc: 99.98 391/391 \n",
      "\n",
      "Test set: Average loss: 0.0163, Accuracy: 7433/10000 (74%)\n",
      "\n",
      " [================================================================>]  Step: 161ms | Tot: 6s706ms | Train Epoch: 39 \tLoss: 0.000004\tAcc: 99.99 391/391 \n",
      "\n",
      "Test set: Average loss: 0.0168, Accuracy: 7431/10000 (74%)\n",
      "\n",
      " [================================================================>]  Step: 165ms | Tot: 6s758ms | Train Epoch: 40 \tLoss: 0.000005\tAcc: 99.98 391/391 \n",
      "\n",
      "Test set: Average loss: 0.0167, Accuracy: 7404/10000 (74%)\n",
      "\n",
      " [================================================================>]  Step: 162ms | Tot: 6s736ms | Train Epoch: 41 \tLoss: 0.000003\tAcc: 99.99 391/391 \n",
      "\n",
      "Test set: Average loss: 0.0171, Accuracy: 7414/10000 (74%)\n",
      "\n",
      " [================================================================>]  Step: 163ms | Tot: 6s724ms | Train Epoch: 42 \tLoss: 0.000003\tAcc: 99.99 391/391 \n",
      "\n",
      "Test set: Average loss: 0.0169, Accuracy: 7446/10000 (74%)\n",
      "\n",
      " [================================================================>]  Step: 164ms | Tot: 6s767ms | Train Epoch: 43 \tLoss: 0.000002\tAcc: 100.00 391/391 \n",
      "\n",
      "Test set: Average loss: 0.0172, Accuracy: 7464/10000 (75%)\n",
      "\n",
      " [================================================================>]  Step: 162ms | Tot: 6s691ms | Train Epoch: 44 \tLoss: 0.000001\tAcc: 100.00 391/391 \n",
      "\n",
      "Test set: Average loss: 0.0172, Accuracy: 7463/10000 (75%)\n",
      "\n",
      " [================================================================>]  Step: 163ms | Tot: 6s749ms | Train Epoch: 45 \tLoss: 0.000001\tAcc: 100.00 391/391 \n",
      "\n",
      "Test set: Average loss: 0.0175, Accuracy: 7462/10000 (75%)\n",
      "\n",
      " [================================================================>]  Step: 164ms | Tot: 6s836ms | Train Epoch: 46 \tLoss: 0.000001\tAcc: 100.00 391/391 \n",
      "\n",
      "Test set: Average loss: 0.0171, Accuracy: 7463/10000 (75%)\n",
      "\n",
      " [================================================================>]  Step: 164ms | Tot: 6s644ms | Train Epoch: 47 \tLoss: 0.000001\tAcc: 100.00 391/391 \n",
      "\n",
      "Test set: Average loss: 0.0173, Accuracy: 7469/10000 (75%)\n",
      "\n",
      " [================================================================>]  Step: 163ms | Tot: 6s731ms | Train Epoch: 48 \tLoss: 0.000001\tAcc: 100.00 391/391 \n",
      "\n",
      "Test set: Average loss: 0.0172, Accuracy: 7487/10000 (75%)\n",
      "\n",
      " [================================================================>]  Step: 164ms | Tot: 6s783ms | Train Epoch: 49 \tLoss: 0.000001\tAcc: 100.00 391/391  \n",
      "\n",
      "Test set: Average loss: 0.0175, Accuracy: 7492/10000 (75%)\n",
      "\n",
      " [================================================================>]  Step: 169ms | Tot: 6s824ms | Train Epoch: 50 \tLoss: 0.000001\tAcc: 100.00 391/391 \n",
      "\n",
      "Test set: Average loss: 0.0176, Accuracy: 7466/10000 (75%)\n",
      "\n",
      " [================================================================>]  Step: 165ms | Tot: 6s674ms | Train Epoch: 51 \tLoss: 0.000001\tAcc: 100.00 391/391 \n",
      "\n",
      "Test set: Average loss: 0.0176, Accuracy: 7453/10000 (75%)\n",
      "\n",
      " [================================================================>]  Step: 169ms | Tot: 6s699ms | Train Epoch: 52 \tLoss: 0.000001\tAcc: 100.00 391/391 \n",
      "\n",
      "Test set: Average loss: 0.0176, Accuracy: 7496/10000 (75%)\n",
      "\n",
      " [================================================================>]  Step: 164ms | Tot: 6s778ms | Train Epoch: 53 \tLoss: 0.000001\tAcc: 100.00 391/391 \n",
      "\n",
      "Test set: Average loss: 0.0177, Accuracy: 7503/10000 (75%)\n",
      "\n",
      " [================================================================>]  Step: 165ms | Tot: 6s797ms | Train Epoch: 54 \tLoss: 0.000001\tAcc: 100.00 391/391 \n",
      "\n",
      "Test set: Average loss: 0.0175, Accuracy: 7486/10000 (75%)\n",
      "\n",
      " [================================================================>]  Step: 167ms | Tot: 6s743ms | Train Epoch: 55 \tLoss: 0.000000\tAcc: 100.00 391/391 \n",
      "\n",
      "Test set: Average loss: 0.0176, Accuracy: 7483/10000 (75%)\n",
      "\n",
      " [================================================================>]  Step: 164ms | Tot: 6s730ms | Train Epoch: 56 \tLoss: 0.000000\tAcc: 100.00 391/391 \n",
      "\n",
      "Test set: Average loss: 0.0174, Accuracy: 7497/10000 (75%)\n",
      "\n",
      " [================================================================>]  Step: 168ms | Tot: 6s695ms | Train Epoch: 57 \tLoss: 0.000000\tAcc: 100.00 391/391 \n",
      "\n",
      "Test set: Average loss: 0.0177, Accuracy: 7510/10000 (75%)\n",
      "\n",
      " [================================================================>]  Step: 173ms | Tot: 6s806ms | Train Epoch: 58 \tLoss: 0.000000\tAcc: 100.00 391/391 \n",
      "\n",
      "Test set: Average loss: 0.0175, Accuracy: 7499/10000 (75%)\n",
      "\n",
      " [================================================================>]  Step: 165ms | Tot: 6s657ms | Train Epoch: 59 \tLoss: 0.000000\tAcc: 100.00 391/391 \n",
      "\n",
      "Test set: Average loss: 0.0175, Accuracy: 7498/10000 (75%)\n",
      "\n",
      " [================================================================>]  Step: 172ms | Tot: 6s728ms | Train Epoch: 60 \tLoss: 0.000000\tAcc: 100.00 391/391 \n",
      "\n",
      "Test set: Average loss: 0.0178, Accuracy: 7501/10000 (75%)\n",
      "\n",
      " [================================================================>]  Step: 165ms | Tot: 6s721ms | Train Epoch: 61 \tLoss: 0.000000\tAcc: 100.00 391/391 \n",
      "\n",
      "Test set: Average loss: 0.0179, Accuracy: 7501/10000 (75%)\n",
      "\n",
      " [================================================================>]  Step: 164ms | Tot: 6s645ms | Train Epoch: 62 \tLoss: 0.000000\tAcc: 100.00 391/391 \n",
      "\n",
      "Test set: Average loss: 0.0181, Accuracy: 7511/10000 (75%)\n",
      "\n",
      " [================================================================>]  Step: 172ms | Tot: 6s687ms | Train Epoch: 63 \tLoss: 0.000000\tAcc: 100.00 391/391 \n",
      "\n",
      "Test set: Average loss: 0.0178, Accuracy: 7486/10000 (75%)\n",
      "\n",
      " [================================================================>]  Step: 168ms | Tot: 6s666ms | Train Epoch: 64 \tLoss: 0.000000\tAcc: 100.00 391/391 \n",
      "\n",
      "Test set: Average loss: 0.0181, Accuracy: 7470/10000 (75%)\n",
      "\n",
      " [================================================================>]  Step: 163ms | Tot: 6s659ms | Train Epoch: 65 \tLoss: 0.000000\tAcc: 100.00 391/391 \n",
      "\n",
      "Test set: Average loss: 0.0178, Accuracy: 7505/10000 (75%)\n",
      "\n",
      " [================================================================>]  Step: 162ms | Tot: 6s703ms | Train Epoch: 66 \tLoss: 0.000000\tAcc: 100.00 391/391 \n",
      "\n",
      "Test set: Average loss: 0.0177, Accuracy: 7484/10000 (75%)\n",
      "\n",
      " [================================================================>]  Step: 165ms | Tot: 6s661ms | Train Epoch: 67 \tLoss: 0.000000\tAcc: 100.00 391/391 \n",
      "\n",
      "Test set: Average loss: 0.0179, Accuracy: 7493/10000 (75%)\n",
      "\n",
      " [================================================================>]  Step: 166ms | Tot: 6s692ms | Train Epoch: 68 \tLoss: 0.000000\tAcc: 100.00 391/391 \n",
      "\n",
      "Test set: Average loss: 0.0177, Accuracy: 7505/10000 (75%)\n",
      "\n",
      " [================================================================>]  Step: 166ms | Tot: 6s771ms | Train Epoch: 69 \tLoss: 0.000000\tAcc: 100.00 391/391 \n",
      "\n",
      "Test set: Average loss: 0.0179, Accuracy: 7506/10000 (75%)\n",
      "\n",
      " [================================================================>]  Step: 164ms | Tot: 6s582ms | Train Epoch: 70 \tLoss: 0.000000\tAcc: 100.00 391/391 \n",
      "\n",
      "Test set: Average loss: 0.0180, Accuracy: 7481/10000 (75%)\n",
      "\n",
      " [================================================================>]  Step: 166ms | Tot: 6s846ms | Train Epoch: 71 \tLoss: 0.000000\tAcc: 100.00 391/391 \n",
      "\n",
      "Test set: Average loss: 0.0177, Accuracy: 7492/10000 (75%)\n",
      "\n",
      " [================================================================>]  Step: 166ms | Tot: 6s724ms | Train Epoch: 72 \tLoss: 0.000000\tAcc: 100.00 391/391 \n",
      "\n",
      "Test set: Average loss: 0.0179, Accuracy: 7500/10000 (75%)\n",
      "\n",
      " [================================================================>]  Step: 163ms | Tot: 6s727ms | Train Epoch: 73 \tLoss: 0.000000\tAcc: 100.00 391/391 \n",
      "\n",
      "Test set: Average loss: 0.0179, Accuracy: 7492/10000 (75%)\n",
      "\n",
      " [================================================================>]  Step: 163ms | Tot: 6s801ms | Train Epoch: 74 \tLoss: 0.000000\tAcc: 100.00 391/391 \n",
      "\n",
      "Test set: Average loss: 0.0178, Accuracy: 7507/10000 (75%)\n",
      "\n",
      " [================================================================>]  Step: 164ms | Tot: 6s776ms | Train Epoch: 75 \tLoss: 0.000000\tAcc: 100.00 391/391 \n",
      "\n",
      "Test set: Average loss: 0.0178, Accuracy: 7486/10000 (75%)\n",
      "\n"
     ]
    },
    {
     "name": "stdout",
     "output_type": "stream",
     "text": [
      " [================================================================>]  Step: 165ms | Tot: 6s731ms | Train Epoch: 76 \tLoss: 0.000000\tAcc: 100.00 391/391 \n",
      "\n",
      "Test set: Average loss: 0.0179, Accuracy: 7492/10000 (75%)\n",
      "\n",
      " [================================================================>]  Step: 168ms | Tot: 6s748ms | Train Epoch: 77 \tLoss: 0.000000\tAcc: 100.00 391/391 \n",
      "\n",
      "Test set: Average loss: 0.0178, Accuracy: 7498/10000 (75%)\n",
      "\n",
      " [================================================================>]  Step: 171ms | Tot: 6s764ms | Train Epoch: 78 \tLoss: 0.000000\tAcc: 100.00 391/391 \n",
      "\n",
      "Test set: Average loss: 0.0179, Accuracy: 7488/10000 (75%)\n",
      "\n",
      " [================================================================>]  Step: 165ms | Tot: 6s801ms | Train Epoch: 79 \tLoss: 0.000000\tAcc: 100.00 391/391 \n",
      "\n",
      "Test set: Average loss: 0.0177, Accuracy: 7497/10000 (75%)\n",
      "\n",
      " [================================================================>]  Step: 167ms | Tot: 6s818ms | Train Epoch: 80 \tLoss: 0.000000\tAcc: 100.00 391/391 \n",
      "\n",
      "Test set: Average loss: 0.0178, Accuracy: 7478/10000 (75%)\n",
      "\n",
      " [================================================================>]  Step: 164ms | Tot: 6s834ms | Train Epoch: 81 \tLoss: 0.000000\tAcc: 100.00 391/391 \n",
      "\n",
      "Test set: Average loss: 0.0179, Accuracy: 7494/10000 (75%)\n",
      "\n",
      " [================================================================>]  Step: 165ms | Tot: 6s749ms | Train Epoch: 82 \tLoss: 0.000000\tAcc: 100.00 391/391 \n",
      "\n",
      "Test set: Average loss: 0.0178, Accuracy: 7498/10000 (75%)\n",
      "\n",
      " [================================================================>]  Step: 169ms | Tot: 6s799ms | Train Epoch: 83 \tLoss: 0.000000\tAcc: 100.00 391/391 \n",
      "\n",
      "Test set: Average loss: 0.0181, Accuracy: 7498/10000 (75%)\n",
      "\n",
      " [================================================================>]  Step: 166ms | Tot: 6s701ms | Train Epoch: 84 \tLoss: 0.000001\tAcc: 100.00 391/391 \n",
      "\n",
      "Test set: Average loss: 0.0181, Accuracy: 7487/10000 (75%)\n",
      "\n",
      " [================================================================>]  Step: 172ms | Tot: 6s684ms | Train Epoch: 85 \tLoss: 0.000000\tAcc: 100.00 391/391 \n",
      "\n",
      "Test set: Average loss: 0.0176, Accuracy: 7497/10000 (75%)\n",
      "\n",
      " [================================================================>]  Step: 170ms | Tot: 6s713ms | Train Epoch: 86 \tLoss: 0.000000\tAcc: 100.00 391/391 \n",
      "\n",
      "Test set: Average loss: 0.0180, Accuracy: 7498/10000 (75%)\n",
      "\n",
      " [================================================================>]  Step: 164ms | Tot: 6s567ms | Train Epoch: 87 \tLoss: 0.000000\tAcc: 100.00 391/391 \n",
      "\n",
      "Test set: Average loss: 0.0181, Accuracy: 7487/10000 (75%)\n",
      "\n",
      " [================================================================>]  Step: 164ms | Tot: 6s594ms | Train Epoch: 88 \tLoss: 0.000000\tAcc: 100.00 391/391 \n",
      "\n",
      "Test set: Average loss: 0.0180, Accuracy: 7499/10000 (75%)\n",
      "\n",
      " [================================================================>]  Step: 167ms | Tot: 6s686ms | Train Epoch: 89 \tLoss: 0.000000\tAcc: 100.00 391/391 \n",
      "\n",
      "Test set: Average loss: 0.0181, Accuracy: 7491/10000 (75%)\n",
      "\n",
      " [================================================================>]  Step: 161ms | Tot: 6s636ms | Train Epoch: 90 \tLoss: 0.000000\tAcc: 100.00 391/391 \n",
      "\n",
      "Test set: Average loss: 0.0179, Accuracy: 7498/10000 (75%)\n",
      "\n",
      " [================================================================>]  Step: 175ms | Tot: 6s617ms | Train Epoch: 91 \tLoss: 0.000000\tAcc: 100.00 391/391 \n",
      "\n",
      "Test set: Average loss: 0.0181, Accuracy: 7494/10000 (75%)\n",
      "\n",
      " [================================================================>]  Step: 169ms | Tot: 6s781ms | Train Epoch: 92 \tLoss: 0.000000\tAcc: 100.00 391/391 /391 \n",
      "\n",
      "Test set: Average loss: 0.0180, Accuracy: 7505/10000 (75%)\n",
      "\n",
      " [================================================================>]  Step: 166ms | Tot: 6s653ms | Train Epoch: 93 \tLoss: 0.000000\tAcc: 100.00 391/391 \n",
      "\n",
      "Test set: Average loss: 0.0181, Accuracy: 7507/10000 (75%)\n",
      "\n",
      " [================================================================>]  Step: 164ms | Tot: 6s751ms | Train Epoch: 94 \tLoss: 0.000000\tAcc: 100.00 391/391 \n",
      "\n",
      "Test set: Average loss: 0.0176, Accuracy: 7502/10000 (75%)\n",
      "\n",
      " [================================================================>]  Step: 163ms | Tot: 6s603ms | Train Epoch: 95 \tLoss: 0.000000\tAcc: 100.00 391/391 \n",
      "\n",
      "Test set: Average loss: 0.0176, Accuracy: 7501/10000 (75%)\n",
      "\n",
      " [================================================================>]  Step: 162ms | Tot: 6s770ms | Train Epoch: 96 \tLoss: 0.000000\tAcc: 100.00 391/391 \n",
      "\n",
      "Test set: Average loss: 0.0178, Accuracy: 7486/10000 (75%)\n",
      "\n",
      " [================================================================>]  Step: 162ms | Tot: 6s716ms | Train Epoch: 97 \tLoss: 0.000000\tAcc: 100.00 391/391 \n",
      "\n",
      "Test set: Average loss: 0.0175, Accuracy: 7499/10000 (75%)\n",
      "\n",
      " [================================================================>]  Step: 165ms | Tot: 6s643ms | Train Epoch: 98 \tLoss: 0.000000\tAcc: 100.00 391/391 \n",
      "\n",
      "Test set: Average loss: 0.0180, Accuracy: 7492/10000 (75%)\n",
      "\n",
      " [================================================================>]  Step: 163ms | Tot: 6s750ms | Train Epoch: 99 \tLoss: 0.000000\tAcc: 100.00 391/391 \n",
      "\n",
      "Test set: Average loss: 0.0179, Accuracy: 7491/10000 (75%)\n",
      "\n",
      "cat vs.  cat\n",
      "ship vs.  ship\n",
      "ship vs.  ship\n",
      "airplane vs.  airplane\n",
      "frog vs.  frog\n",
      "frog vs.  frog\n",
      "automobile vs.  automobile\n",
      "frog vs.  frog\n",
      "\n"
     ]
    },
    {
     "data": {
      "text/html": [
       "Waiting for W&B process to finish... <strong style=\"color:green\">(success).</strong>"
      ],
      "text/plain": [
       "<IPython.core.display.HTML object>"
      ]
     },
     "metadata": {},
     "output_type": "display_data"
    },
    {
     "data": {
      "application/vnd.jupyter.widget-view+json": {
       "model_id": "",
       "version_major": 2,
       "version_minor": 0
      },
      "text/plain": [
       "VBox(children=(Label(value='0.022 MB of 0.022 MB uploaded (0.000 MB deduped)\\r'), FloatProgress(value=0.983988…"
      ]
     },
     "metadata": {},
     "output_type": "display_data"
    },
    {
     "data": {
      "text/html": [
       "<style>\n",
       "    table.wandb td:nth-child(1) { padding: 0 10px; text-align: right }\n",
       "    .wandb-row { display: flex; flex-direction: row; flex-wrap: wrap; width: 100% }\n",
       "    .wandb-col { display: flex; flex-direction: column; flex-basis: 100%; flex: 1; padding: 10px; }\n",
       "    </style>\n",
       "<div class=\"wandb-row\"><div class=\"wandb-col\"><h3>Run history:</h3><br/><table class=\"wandb\"><tr><td>Learning rate</td><td>████████▇▇▇▇▇▆▆▆▆▅▅▅▄▄▄▄▃▃▃▃▂▂▂▂▂▁▁▁▁▁▁▁</td></tr><tr><td>Test accuracy</td><td>▁▄▅▅▇▇▇▇▆▇█▇████████████████████████████</td></tr><tr><td>Train loss</td><td>█▅▃▃▂▂▁▁▁▁▁▁▁▁▁▁▁▁▁▁▁▁▁▁▁▁▁▁▁▁▁▁▁▁▁▁▁▁▁▁</td></tr></table><br/></div><div class=\"wandb-col\"><h3>Run summary:</h3><br/><table class=\"wandb\"><tr><td>Learning rate</td><td>2e-05</td></tr><tr><td>Test accuracy</td><td>74.91</td></tr><tr><td>Train loss</td><td>0.0</td></tr></table><br/></div></div>"
      ],
      "text/plain": [
       "<IPython.core.display.HTML object>"
      ]
     },
     "metadata": {},
     "output_type": "display_data"
    },
    {
     "data": {
      "text/html": [
       "Synced <strong style=\"color:#cdcd00\">graceful-frog-29</strong>: <a href=\"https://wandb.ai/upeee/wandb-project/runs/2mdi22vn\" target=\"_blank\">https://wandb.ai/upeee/wandb-project/runs/2mdi22vn</a><br/>Synced 7 W&B file(s), 1 media file(s), 9 artifact file(s) and 0 other file(s)"
      ],
      "text/plain": [
       "<IPython.core.display.HTML object>"
      ]
     },
     "metadata": {},
     "output_type": "display_data"
    },
    {
     "data": {
      "text/html": [
       "Find logs at: <code>./wandb/run-20220310_175601-2mdi22vn/logs</code>"
      ],
      "text/plain": [
       "<IPython.core.display.HTML object>"
      ]
     },
     "metadata": {},
     "output_type": "display_data"
    }
   ],
   "source": [
    "run.display(height=720)\n",
    "\n",
    "start_time = datetime.datetime.now()\n",
    "for epoch in range(wandb.config[\"epochs\"]):\n",
    "    _, train_loss = train(epoch)\n",
    "    accuracy, _ = test()\n",
    "    wandb.log({\n",
    "        \"Test accuracy\": accuracy,\n",
    "        \"Train loss\": train_loss,\n",
    "        \"Learning rate\": optimizer.param_groups[0]['lr']\n",
    "    })\n",
    "\n",
    "elapsed_time = datetime.datetime.now() - start_time\n",
    "print(\"Elapsed time: %s\" % elapsed_time)\n",
    "wandb.log({\"Elapsed training time\": elapsed_time}) \n",
    "    \n",
    "with torch.no_grad():\n",
    "  pred = torch.argmax(model(image.to(device)), dim=1).cpu().numpy()\n",
    "\n",
    "final_pred = []\n",
    "for i in range(8):\n",
    "    final_pred.append(label_human[pred[i]])\n",
    "    print(label_human[label[i]], \"vs. \",  final_pred[i])\n",
    "\n",
    "table_test.add_column(name=\"Final Pred Label\", data=final_pred)\n",
    "\n",
    "wandb.log({\"Test data\": table_test})\n",
    "\n",
    "wandb.finish()"
   ]
  },
  {
   "cell_type": "code",
   "execution_count": null,
   "metadata": {},
   "outputs": [],
   "source": []
  }
 ],
 "metadata": {
  "interpreter": {
   "hash": "52772734322c44a04e342c358be70f2ff4d97da358cb3cd38ceb0f6066598be5"
  },
  "kernelspec": {
   "display_name": "Python 3 (ipykernel)",
   "language": "python",
   "name": "python3"
  },
  "language_info": {
   "codemirror_mode": {
    "name": "ipython",
    "version": 3
   },
   "file_extension": ".py",
   "mimetype": "text/x-python",
   "name": "python",
   "nbconvert_exporter": "python",
   "pygments_lexer": "ipython3",
   "version": "3.7.3"
  }
 },
 "nbformat": 4,
 "nbformat_minor": 2
}
