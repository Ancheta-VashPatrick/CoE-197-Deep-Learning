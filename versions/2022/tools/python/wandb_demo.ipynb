{
 "cells": [
  {
   "cell_type": "markdown",
   "metadata": {},
   "source": [
    "### Weights and Biases (`wandb`) Demo\n",
    "\n",
    "In deep learning, we perform a lot of model training especially for novel neural architectures. The problem is deep learning frameworks like PyTorch do not provide sufficient tools to visualize input data, track the progress of our experiments, log data, and visualize the outputs. \n",
    "\n",
    "`wandb` addresses this problem. In this demo, we show how to use `wandb` to visualize input data, prediction, and training progress in the form value of loss function and validation accuracy. \n",
    "\n",
    "**Note**: Before running this demo, please make sure that you have `wandb.ai` free account. \n",
    "\n",
    "Let us install `wandb`."
   ]
  },
  {
   "cell_type": "code",
   "execution_count": 28,
   "metadata": {},
   "outputs": [
    {
     "name": "stdout",
     "output_type": "stream",
     "text": [
      "Requirement already satisfied: wandb in /home/rowel/anaconda3/lib/python3.7/site-packages (0.12.11)\n",
      "Requirement already satisfied: Click!=8.0.0,>=7.0 in /home/rowel/anaconda3/lib/python3.7/site-packages (from wandb) (8.0.4)\n",
      "Requirement already satisfied: pathtools in /home/rowel/anaconda3/lib/python3.7/site-packages (from wandb) (0.1.2)\n",
      "Requirement already satisfied: six>=1.13.0 in /home/rowel/anaconda3/lib/python3.7/site-packages (from wandb) (1.16.0)\n",
      "Requirement already satisfied: sentry-sdk>=1.0.0 in /home/rowel/anaconda3/lib/python3.7/site-packages (from wandb) (1.5.6)\n",
      "Requirement already satisfied: docker-pycreds>=0.4.0 in /home/rowel/anaconda3/lib/python3.7/site-packages (from wandb) (0.4.0)\n",
      "Requirement already satisfied: requests<3,>=2.0.0 in /home/rowel/anaconda3/lib/python3.7/site-packages (from wandb) (2.27.1)\n",
      "Requirement already satisfied: GitPython>=1.0.0 in /home/rowel/anaconda3/lib/python3.7/site-packages (from wandb) (3.1.27)\n",
      "Requirement already satisfied: yaspin>=1.0.0 in /home/rowel/anaconda3/lib/python3.7/site-packages (from wandb) (2.1.0)\n",
      "Requirement already satisfied: psutil>=5.0.0 in /home/rowel/anaconda3/lib/python3.7/site-packages (from wandb) (5.8.0)\n",
      "Requirement already satisfied: promise<3,>=2.0 in /home/rowel/anaconda3/lib/python3.7/site-packages (from wandb) (2.3)\n",
      "Requirement already satisfied: python-dateutil>=2.6.1 in /home/rowel/anaconda3/lib/python3.7/site-packages (from wandb) (2.8.2)\n",
      "Requirement already satisfied: protobuf>=3.12.0 in /home/rowel/anaconda3/lib/python3.7/site-packages (from wandb) (3.19.4)\n",
      "Requirement already satisfied: PyYAML in /home/rowel/anaconda3/lib/python3.7/site-packages (from wandb) (6.0)\n",
      "Requirement already satisfied: shortuuid>=0.5.0 in /home/rowel/anaconda3/lib/python3.7/site-packages (from wandb) (1.0.8)\n",
      "Requirement already satisfied: setproctitle in /home/rowel/anaconda3/lib/python3.7/site-packages (from wandb) (1.2.2)\n",
      "Requirement already satisfied: importlib-metadata in /home/rowel/anaconda3/lib/python3.7/site-packages (from Click!=8.0.0,>=7.0->wandb) (4.8.2)\n",
      "Requirement already satisfied: gitdb<5,>=4.0.1 in /home/rowel/anaconda3/lib/python3.7/site-packages (from GitPython>=1.0.0->wandb) (4.0.9)\n",
      "Requirement already satisfied: typing-extensions>=3.7.4.3 in /home/rowel/anaconda3/lib/python3.7/site-packages (from GitPython>=1.0.0->wandb) (3.10.0.2)\n",
      "Requirement already satisfied: smmap<6,>=3.0.1 in /home/rowel/anaconda3/lib/python3.7/site-packages (from gitdb<5,>=4.0.1->GitPython>=1.0.0->wandb) (5.0.0)\n",
      "Requirement already satisfied: certifi>=2017.4.17 in /home/rowel/anaconda3/lib/python3.7/site-packages (from requests<3,>=2.0.0->wandb) (2021.10.8)\n",
      "Requirement already satisfied: charset-normalizer~=2.0.0 in /home/rowel/anaconda3/lib/python3.7/site-packages (from requests<3,>=2.0.0->wandb) (2.0.4)\n",
      "Requirement already satisfied: urllib3<1.27,>=1.21.1 in /home/rowel/anaconda3/lib/python3.7/site-packages (from requests<3,>=2.0.0->wandb) (1.26.8)\n",
      "Requirement already satisfied: idna<4,>=2.5 in /home/rowel/anaconda3/lib/python3.7/site-packages (from requests<3,>=2.0.0->wandb) (3.3)\n",
      "Requirement already satisfied: termcolor<2.0.0,>=1.1.0 in /home/rowel/anaconda3/lib/python3.7/site-packages (from yaspin>=1.0.0->wandb) (1.1.0)\n",
      "Requirement already satisfied: zipp>=0.5 in /home/rowel/anaconda3/lib/python3.7/site-packages (from importlib-metadata->Click!=8.0.0,>=7.0->wandb) (3.7.0)\n"
     ]
    }
   ],
   "source": [
    "!pip install wandb"
   ]
  },
  {
   "cell_type": "markdown",
   "metadata": {},
   "source": [
    "**Import** the required modules."
   ]
  },
  {
   "cell_type": "code",
   "execution_count": 29,
   "metadata": {},
   "outputs": [],
   "source": [
    "import torch\n",
    "import torchvision\n",
    "import wandb\n",
    "import datetime\n",
    "from torch.optim import SGD\n",
    "from torch.optim.lr_scheduler import CosineAnnealingLR\n",
    "from torch.utils.data import DataLoader\n",
    "from torchvision import datasets, transforms\n",
    "from ui import progress_bar"
   ]
  },
  {
   "cell_type": "markdown",
   "metadata": {},
   "source": [
    "**Login to and initialize** `wandb`. You will need to use your `wandb` API to run this demo.\n",
    "\n",
    "As the config indicates, we will train our model using `cifar10` dataset, learning rate of `0.1`, and batch size of `128` for `100` epochs. \n",
    "\n",
    "epochs means a complete sampling of the dataset (train). In the `wandb` plots, step is the term used instead of epoch.  \n",
    "batch size is the number of samples per training step.\n"
   ]
  },
  {
   "cell_type": "code",
   "execution_count": 30,
   "metadata": {},
   "outputs": [
    {
     "name": "stderr",
     "output_type": "stream",
     "text": [
      "2022-03-10 19:44:09.092609: W tensorflow/stream_executor/platform/default/dso_loader.cc:60] Could not load dynamic library 'libcudart.so.11.0'; dlerror: libcudart.so.11.0: cannot open shared object file: No such file or directory\n",
      "2022-03-10 19:44:09.092656: I tensorflow/stream_executor/cuda/cudart_stub.cc:29] Ignore above cudart dlerror if you do not have a GPU set up on your machine.\n"
     ]
    },
    {
     "data": {
      "text/html": [
       "Tracking run with wandb version 0.12.11"
      ],
      "text/plain": [
       "<IPython.core.display.HTML object>"
      ]
     },
     "metadata": {},
     "output_type": "display_data"
    },
    {
     "data": {
      "text/html": [
       "Run data is saved locally in <code>/home/rowel/github/roatienza/Deep-Learning-Experiments/versions/2022/tools/python/wandb/run-20220310_194407-1qh54rl2</code>"
      ],
      "text/plain": [
       "<IPython.core.display.HTML object>"
      ]
     },
     "metadata": {},
     "output_type": "display_data"
    },
    {
     "data": {
      "text/html": [
       "Syncing run <strong><a href=\"https://wandb.ai/upeee/wandb-project/runs/1qh54rl2\" target=\"_blank\">fresh-dream-1</a></strong> to <a href=\"https://wandb.ai/upeee/wandb-project\" target=\"_blank\">Weights & Biases</a> (<a href=\"https://wandb.me/run\" target=\"_blank\">docs</a>)<br/>"
      ],
      "text/plain": [
       "<IPython.core.display.HTML object>"
      ]
     },
     "metadata": {},
     "output_type": "display_data"
    },
    {
     "name": "stdout",
     "output_type": "stream",
     "text": [
      "{'learning_rate': 0.1, 'epochs': 100, 'batch_size': 128, 'dataset': 'cifar10'}\n"
     ]
    }
   ],
   "source": [
    "wandb.login()\n",
    "config = {\n",
    "  \"learning_rate\": 0.1,\n",
    "  \"epochs\": 100,\n",
    "  \"batch_size\": 128,\n",
    "  \"dataset\": \"cifar10\"\n",
    "}\n",
    "run = wandb.init(project=\"wandb-project\", entity=\"upeee\", config=config)\n",
    "\n",
    "print(wandb.config)"
   ]
  },
  {
   "cell_type": "markdown",
   "metadata": {},
   "source": [
    "### Build the model\n",
    "\n",
    "Use a ResNet18 from `torchvision`. Remove the last layer that was used for 1k-class ImageNet classification. Since we will use CIFAR10, the last layer is replaced by a linear layer with 10 outputs. We will train the model from scratch, so we set `pretrained=False`."
   ]
  },
  {
   "cell_type": "code",
   "execution_count": 31,
   "metadata": {},
   "outputs": [
    {
     "data": {
      "text/plain": [
       "[]"
      ]
     },
     "execution_count": 31,
     "metadata": {},
     "output_type": "execute_result"
    }
   ],
   "source": [
    "device = torch.device(\"cuda\" if torch.cuda.is_available() else \"cpu\")\n",
    "model = torchvision.models.resnet18(pretrained=False, progress=True)\n",
    "\n",
    "model.fc = torch.nn.Linear(model.fc.in_features, 10)  \n",
    "model.to(device)\n",
    "\n",
    "# watch model gradients during training\n",
    "wandb.watch(model)"
   ]
  },
  {
   "cell_type": "markdown",
   "metadata": {},
   "source": [
    "### Loss function, Optimizer, Scheduler and DataLoader\n",
    "\n",
    "The appropriate loss function is cross entropy for multi-category classfication. We use `SGD` or stochastic gradient descent for optimization. Our learning rate that starts at `0.1` decays to zero at the end of total number of epochs. The decay is controlled by a cosine learning rate decay scheduler. \n",
    "\n",
    "Finally, we use `cifar10` dataset that is available in `torchvision`. We will discuss datasets and dataloaders in our future demo. For the meantime, we can treat dataloader as a data strcuture that dispenses batch size data from either the train or test split of the dataset."
   ]
  },
  {
   "cell_type": "code",
   "execution_count": 32,
   "metadata": {
    "scrolled": true
   },
   "outputs": [
    {
     "name": "stdout",
     "output_type": "stream",
     "text": [
      "Files already downloaded and verified\n",
      "Files already downloaded and verified\n"
     ]
    }
   ],
   "source": [
    "loss = torch.nn.CrossEntropyLoss()\n",
    "optimizer = SGD(model.parameters(), lr=wandb.config.learning_rate)\n",
    "scheduler = CosineAnnealingLR(optimizer, T_max=wandb.config.epochs)\n",
    "\n",
    "x_train = datasets.CIFAR10(root='./data', train=True, \n",
    "                           download=True, \n",
    "                           transform=transforms.ToTensor())\n",
    "x_test = datasets.CIFAR10(root='./data',\n",
    "                          train=False, \n",
    "                          download=True, \n",
    "                          transform=transforms.ToTensor())\n",
    "train_loader = DataLoader(x_train, \n",
    "                          batch_size=wandb.config.batch_size, \n",
    "                          shuffle=True, \n",
    "                          num_workers=2)\n",
    "test_loader = DataLoader(x_test, \n",
    "                         batch_size=wandb.config.batch_size, \n",
    "                         shuffle=False, \n",
    "                         num_workers=2)"
   ]
  },
  {
   "cell_type": "markdown",
   "metadata": {},
   "source": [
    "### Visulaizing sample data from test split\n",
    "\n",
    "We can visualize data from the test split by getting a batch sample: `image, label = iter(test_loader).next()`. We use `wandb` table to create a column for image, grount truth label and initial model predicted label."
   ]
  },
  {
   "cell_type": "code",
   "execution_count": 33,
   "metadata": {},
   "outputs": [
    {
     "name": "stdout",
     "output_type": "stream",
     "text": [
      "cat vs.  ship\n",
      "ship vs.  cat\n",
      "ship vs.  deer\n",
      "airplane vs.  cat\n",
      "frog vs.  cat\n",
      "frog vs.  cat\n",
      "automobile vs.  cat\n",
      "frog vs.  deer\n"
     ]
    }
   ],
   "source": [
    "\n",
    "label_human = [\"airplane\", \"automobile\", \"bird\", \"cat\", \"deer\", \"dog\", \"frog\", \"horse\", \"ship\", \"truck\"]\n",
    "\n",
    "table_test = wandb.Table(columns=['Image', \"Ground Truth\", \"Initial Pred Label\",])\n",
    "\n",
    "image, label = iter(test_loader).next()\n",
    "with torch.no_grad():\n",
    "  pred = torch.argmax(model(image.to(device)), dim=1).cpu().numpy()\n",
    "\n",
    "for i in range(8):\n",
    "  table_test.add_data(wandb.Image(image[i]),\n",
    "                      label_human[label[i]], \n",
    "                      label_human[pred[i]])\n",
    "  print(label_human[label[i]], \"vs. \",  label_human[pred[i]])\n",
    "\n",
    "#wandb.log({\"Test data\": table_test})\n",
    "#wandb.run"
   ]
  },
  {
   "cell_type": "markdown",
   "metadata": {},
   "source": [
    "### The train loop\n",
    "\n",
    "At every epoch, we will run the train loop for the model."
   ]
  },
  {
   "cell_type": "code",
   "execution_count": 34,
   "metadata": {},
   "outputs": [],
   "source": [
    "def train(epoch):\n",
    "  model.train()\n",
    "  train_loss = 0\n",
    "  correct = 0\n",
    "  train_samples = 0\n",
    "\n",
    "  # sample a batch. compute loss and backpropagate\n",
    "  for batch_idx, (data, target) in enumerate(train_loader):\n",
    "    optimizer.zero_grad()\n",
    "    target = target.to(device)\n",
    "    output = model(data.to(device))\n",
    "    loss_value = loss(output, target)\n",
    "    loss_value.backward()\n",
    "    optimizer.step()\n",
    "    scheduler.step(epoch)\n",
    "    train_loss += loss_value.item()\n",
    "    train_samples += len(data)\n",
    "    pred = output.argmax(dim=1, keepdim=True)\n",
    "    correct += pred.eq(target.view_as(pred)).sum().item()\n",
    "    if batch_idx % 10 == 0:\n",
    "      accuracy = 100. * correct / len(train_loader.dataset)\n",
    "      progress_bar(batch_idx,\n",
    "                   len(train_loader),\n",
    "                  'Train Epoch: {}, Loss: {:.6f}, Acc: {:.2f}%'.format(epoch+1, \n",
    "                  train_loss/train_samples, accuracy))\n",
    "  \n",
    "  train_loss /= len(train_loader.dataset)\n",
    "  accuracy = 100. * correct / len(train_loader.dataset)\n",
    "\n",
    "  return accuracy, train_loss"
   ]
  },
  {
   "cell_type": "markdown",
   "metadata": {},
   "source": [
    "### The validation loop\n",
    "\n",
    "After every epoch, we will run the validation loop for the model. In this way, we can track the progress of our model training."
   ]
  },
  {
   "cell_type": "code",
   "execution_count": 35,
   "metadata": {},
   "outputs": [],
   "source": [
    "def test():\n",
    "  model.eval()\n",
    "  test_loss = 0\n",
    "  correct = 0\n",
    "  with torch.no_grad():\n",
    "    for data, target in test_loader:\n",
    "      output = model(data.to(device))   \n",
    "      target = target.to(device)\n",
    "\n",
    "      test_loss += loss(output, target).item()\n",
    "      pred = output.argmax(dim=1, keepdim=True)\n",
    "      correct += pred.eq(target.view_as(pred)).sum().item()\n",
    "\n",
    "  test_loss /= len(test_loader.dataset)\n",
    "  accuracy = 100. * correct / len(test_loader.dataset)\n",
    "\n",
    "  print('\\nTest Loss: {:.4f}, Acc: {:.2f}%\\n'.format(test_loss, accuracy))\n",
    "\n",
    "  return accuracy, test_loss"
   ]
  },
  {
   "cell_type": "markdown",
   "metadata": {},
   "source": [
    "### `wandb` plots\n",
    "\n",
    "Finally, we will use `wandb` to visualize the training progress. We will use the following plots:\n",
    "- Model gradients (`wandb.watch(model)`)\n",
    "- Training loss (`\"train loss\": train_loss,`)\n",
    "- Validation accuracy (`\"Test accuracy\": accuracy,`)\n",
    "- Learning rate which decreases over epochs (`\"Learning rate\": optimizer.param_groups[0]['lr']`)\n",
    "\n",
    "We re-use the earlier `table_test` to see the final prediction."
   ]
  },
  {
   "cell_type": "code",
   "execution_count": 36,
   "metadata": {
    "scrolled": true
   },
   "outputs": [
    {
     "name": "stderr",
     "output_type": "stream",
     "text": [
      "/home/rowel/anaconda3/lib/python3.7/site-packages/IPython/core/display.py:724: UserWarning: Consider using IPython.display.IFrame instead\n",
      "  warnings.warn(\"Consider using IPython.display.IFrame instead\")\n"
     ]
    },
    {
     "data": {
      "text/html": [
       "<iframe src=\"https://wandb.ai/upeee/wandb-project/runs/1qh54rl2?jupyter=true\" style=\"border:none;width:100%;height:1000px;\"></iframe>"
      ],
      "text/plain": [
       "<IPython.core.display.HTML object>"
      ]
     },
     "metadata": {},
     "output_type": "display_data"
    },
    {
     "name": "stdout",
     "output_type": "stream",
     "text": [
      " [>.............................]  Step: 3m7s | Tot: 1ms | Train Epoch: 1, Loss: 0.019536, Acc: 0.02%\b\b\b\b\b\b\b\b\b\b\b\b\b\b\b\b\b\b\b\b\b\b\b\b\b\b\b\b\b\b\b\b\b\b\b\b\b\b\b\b\b\b\b\b\b\b\b 1/391 \r"
     ]
    },
    {
     "name": "stderr",
     "output_type": "stream",
     "text": [
      "/home/rowel/anaconda3/lib/python3.7/site-packages/torch/optim/lr_scheduler.py:154: UserWarning: The epoch parameter in `scheduler.step()` was not necessary and is being deprecated where possible. Please use `scheduler.step()` to step the scheduler. During the deprecation, if epoch is different from None, the closed form is used instead of the new chainable form, where available. Please open an issue if you are unable to replicate your use case: https://github.com/pytorch/pytorch/issues/new/choose.\n",
      "  warnings.warn(EPOCH_DEPRECATION_WARNING, UserWarning)\n"
     ]
    },
    {
     "name": "stdout",
     "output_type": "stream",
     "text": [
      " [=============================>]  Step: 164ms | Tot: 6s826ms | Train Epoch: 1, Loss: 0.012859, Acc: 43.76 391/391 \n",
      "\n",
      "Test Loss: 0.0131, Acc: 43.60%\n",
      "\n",
      " [=============================>]  Step: 161ms | Tot: 6s467ms | Train Epoch: 2, Loss: 0.008843, Acc: 59.96 391/391 \n",
      "\n",
      "Test Loss: 0.0138, Acc: 43.26%\n",
      "\n",
      " [=============================>]  Step: 161ms | Tot: 6s864ms | Train Epoch: 3, Loss: 0.007171, Acc: 67.59 391/391 \n",
      "\n",
      "Test Loss: 0.0115, Acc: 53.88%\n",
      "\n",
      " [=============================>]  Step: 164ms | Tot: 6s542ms | Train Epoch: 4, Loss: 0.006033, Acc: 72.72 391/391 \n",
      "\n",
      "Test Loss: 0.0097, Acc: 58.77%\n",
      "\n",
      " [=============================>]  Step: 160ms | Tot: 6s584ms | Train Epoch: 5, Loss: 0.005126, Acc: 76.84 391/391 \n",
      "\n",
      "Test Loss: 0.0131, Acc: 54.82%\n",
      "\n",
      " [=============================>]  Step: 161ms | Tot: 6s605ms | Train Epoch: 6, Loss: 0.004301, Acc: 80.55 391/391 \n",
      "\n",
      "Test Loss: 0.0106, Acc: 60.54%\n",
      "\n",
      " [=============================>]  Step: 165ms | Tot: 6s607ms | Train Epoch: 7, Loss: 0.003575, Acc: 83.80 391/391 \n",
      "\n",
      "Test Loss: 0.0086, Acc: 66.44%\n",
      "\n",
      " [=============================>]  Step: 165ms | Tot: 6s672ms | Train Epoch: 8, Loss: 0.002971, Acc: 86.63 391/391 \n",
      "\n",
      "Test Loss: 0.0087, Acc: 66.75%\n",
      "\n",
      " [=============================>]  Step: 160ms | Tot: 6s680ms | Train Epoch: 9, Loss: 0.002439, Acc: 88.95 391/391 \n",
      "\n",
      "Test Loss: 0.0092, Acc: 66.95%\n",
      "\n",
      " [=============================>]  Step: 164ms | Tot: 6s630ms | Train Epoch: 10, Loss: 0.001963, Acc: 91.00 391/391 \n",
      "\n",
      "Test Loss: 0.0098, Acc: 68.41%\n",
      "\n",
      " [=============================>]  Step: 164ms | Tot: 6s732ms | Train Epoch: 11, Loss: 0.001634, Acc: 92.54 391/391 \n",
      "\n",
      "Test Loss: 0.0101, Acc: 67.46%\n",
      "\n",
      " [=============================>]  Step: 162ms | Tot: 6s632ms | Train Epoch: 12, Loss: 0.001314, Acc: 94.02 391/391 \n",
      "\n",
      "Test Loss: 0.0104, Acc: 68.95%\n",
      "\n",
      " [=============================>]  Step: 167ms | Tot: 6s748ms | Train Epoch: 13, Loss: 0.001121, Acc: 94.92 391/391 \n",
      "\n",
      "Test Loss: 0.0115, Acc: 66.91%\n",
      "\n",
      " [=============================>]  Step: 169ms | Tot: 6s777ms | Train Epoch: 14, Loss: 0.000927, Acc: 95.78 391/391 \n",
      "\n",
      "Test Loss: 0.0110, Acc: 70.57%\n",
      "\n",
      " [=============================>]  Step: 172ms | Tot: 6s657ms | Train Epoch: 15, Loss: 0.000713, Acc: 96.86 391/391 \n",
      "\n",
      "Test Loss: 0.0116, Acc: 69.33%\n",
      "\n",
      " [=============================>]  Step: 163ms | Tot: 6s764ms | Train Epoch: 16, Loss: 0.000658, Acc: 97.07 391/391 \n",
      "\n",
      "Test Loss: 0.0122, Acc: 68.36%\n",
      "\n",
      " [=============================>]  Step: 162ms | Tot: 6s698ms | Train Epoch: 17, Loss: 0.000523, Acc: 97.69 391/391 \n",
      "\n",
      "Test Loss: 0.0130, Acc: 70.42%\n",
      "\n",
      " [=============================>]  Step: 168ms | Tot: 6s758ms | Train Epoch: 18, Loss: 0.000444, Acc: 98.04 391/391 1 \n",
      "\n",
      "Test Loss: 0.0126, Acc: 70.71%\n",
      "\n",
      " [=============================>]  Step: 164ms | Tot: 6s716ms | Train Epoch: 19, Loss: 0.000392, Acc: 98.30 391/391 \n",
      "\n",
      "Test Loss: 0.0139, Acc: 69.93%\n",
      "\n",
      " [=============================>]  Step: 163ms | Tot: 6s634ms | Train Epoch: 20, Loss: 0.000393, Acc: 98.34 391/391 \n",
      "\n",
      "Test Loss: 0.0135, Acc: 69.89%\n",
      "\n",
      " [=============================>]  Step: 164ms | Tot: 6s680ms | Train Epoch: 21, Loss: 0.000288, Acc: 98.73 391/391 \n",
      "\n",
      "Test Loss: 0.0131, Acc: 71.51%\n",
      "\n",
      " [=============================>]  Step: 171ms | Tot: 6s729ms | Train Epoch: 22, Loss: 0.000274, Acc: 98.83 391/391 \n",
      "\n",
      "Test Loss: 0.0165, Acc: 68.57%\n",
      "\n",
      " [=============================>]  Step: 166ms | Tot: 6s681ms | Train Epoch: 23, Loss: 0.000224, Acc: 99.01 391/391 \n",
      "\n",
      "Test Loss: 0.0149, Acc: 70.41%\n",
      "\n",
      " [=============================>]  Step: 165ms | Tot: 6s742ms | Train Epoch: 24, Loss: 0.000208, Acc: 99.04 391/391 \n",
      "\n",
      "Test Loss: 0.0169, Acc: 68.15%\n",
      "\n",
      " [=============================>]  Step: 167ms | Tot: 6s698ms | Train Epoch: 25, Loss: 0.000249, Acc: 98.93 391/391 \n",
      "\n",
      "Test Loss: 0.0137, Acc: 71.63%\n",
      "\n",
      " [=============================>]  Step: 162ms | Tot: 6s681ms | Train Epoch: 26, Loss: 0.000230, Acc: 98.97 391/391 \n",
      "\n",
      "Test Loss: 0.0135, Acc: 72.58%\n",
      "\n",
      " [=============================>]  Step: 164ms | Tot: 6s639ms | Train Epoch: 27, Loss: 0.000144, Acc: 99.40 391/391 \n",
      "\n",
      "Test Loss: 0.0170, Acc: 69.00%\n",
      "\n",
      " [=============================>]  Step: 164ms | Tot: 6s758ms | Train Epoch: 28, Loss: 0.000122, Acc: 99.47 391/391 \n",
      "\n",
      "Test Loss: 0.0140, Acc: 73.59%\n",
      "\n",
      " [=============================>]  Step: 164ms | Tot: 6s700ms | Train Epoch: 29, Loss: 0.000066, Acc: 99.73 391/391 \n",
      "\n",
      "Test Loss: 0.0157, Acc: 72.15%\n",
      "\n",
      " [=============================>]  Step: 167ms | Tot: 6s628ms | Train Epoch: 30, Loss: 0.000085, Acc: 99.64 391/391 \n",
      "\n",
      "Test Loss: 0.0152, Acc: 72.82%\n",
      "\n",
      " [=============================>]  Step: 170ms | Tot: 6s678ms | Train Epoch: 31, Loss: 0.000112, Acc: 99.52 391/391 \n",
      "\n",
      "Test Loss: 0.0189, Acc: 68.87%\n",
      "\n",
      " [=============================>]  Step: 165ms | Tot: 6s657ms | Train Epoch: 32, Loss: 0.000090, Acc: 99.63 391/391 \n",
      "\n",
      "Test Loss: 0.0147, Acc: 74.33%\n",
      "\n",
      " [=============================>]  Step: 165ms | Tot: 6s626ms | Train Epoch: 33, Loss: 0.000048, Acc: 99.79 391/391 \n",
      "\n",
      "Test Loss: 0.0152, Acc: 74.57%\n",
      "\n",
      " [=============================>]  Step: 165ms | Tot: 6s732ms | Train Epoch: 34, Loss: 0.000032, Acc: 99.87 391/391 \n",
      "\n",
      "Test Loss: 0.0147, Acc: 74.75%\n",
      "\n",
      " [=============================>]  Step: 169ms | Tot: 6s594ms | Train Epoch: 35, Loss: 0.000024, Acc: 99.89 391/391 \n",
      "\n",
      "Test Loss: 0.0154, Acc: 74.83%\n",
      "\n",
      " [=============================>]  Step: 165ms | Tot: 6s687ms | Train Epoch: 36, Loss: 0.000023, Acc: 99.90 391/391 \n",
      "\n",
      "Test Loss: 0.0158, Acc: 73.76%\n",
      "\n",
      " [=============================>]  Step: 162ms | Tot: 6s642ms | Train Epoch: 37, Loss: 0.000019, Acc: 99.94 391/391 \n",
      "\n",
      "Test Loss: 0.0154, Acc: 75.26%\n",
      "\n",
      " [=============================>]  Step: 163ms | Tot: 6s655ms | Train Epoch: 38, Loss: 0.000021, Acc: 99.92 391/391 \n",
      "\n",
      "Test Loss: 0.0157, Acc: 75.45%\n",
      "\n",
      " [=============================>]  Step: 163ms | Tot: 6s747ms | Train Epoch: 39, Loss: 0.000009, Acc: 99.98 391/391 \n",
      "\n",
      "Test Loss: 0.0156, Acc: 75.09%\n",
      "\n",
      " [=============================>]  Step: 171ms | Tot: 6s714ms | Train Epoch: 40, Loss: 0.000008, Acc: 99.97 391/391 \n",
      "\n",
      "Test Loss: 0.0158, Acc: 75.01%\n",
      "\n",
      " [=============================>]  Step: 165ms | Tot: 6s673ms | Train Epoch: 41, Loss: 0.000008, Acc: 99.97 391/391 \n",
      "\n",
      "Test Loss: 0.0160, Acc: 75.11%\n",
      "\n",
      " [=============================>]  Step: 163ms | Tot: 6s641ms | Train Epoch: 42, Loss: 0.000008, Acc: 99.97 391/391 \n",
      "\n",
      "Test Loss: 0.0160, Acc: 75.19%\n",
      "\n",
      " [=============================>]  Step: 162ms | Tot: 6s593ms | Train Epoch: 43, Loss: 0.000004, Acc: 99.99 391/391 \n",
      "\n",
      "Test Loss: 0.0162, Acc: 75.38%\n",
      "\n",
      " [=============================>]  Step: 162ms | Tot: 6s612ms | Train Epoch: 44, Loss: 0.000002, Acc: 100.00 391/391 \n",
      "\n",
      "Test Loss: 0.0165, Acc: 75.49%\n",
      "\n",
      " [=============================>]  Step: 162ms | Tot: 6s693ms | Train Epoch: 45, Loss: 0.000003, Acc: 99.99 391/391 \n",
      "\n",
      "Test Loss: 0.0164, Acc: 75.39%\n",
      "\n",
      " [=============================>]  Step: 161ms | Tot: 6s558ms | Train Epoch: 46, Loss: 0.000001, Acc: 100.00 391/391 \n",
      "\n",
      "Test Loss: 0.0164, Acc: 75.56%\n",
      "\n",
      " [=============================>]  Step: 164ms | Tot: 6s650ms | Train Epoch: 47, Loss: 0.000001, Acc: 100.00 391/391 \n",
      "\n",
      "Test Loss: 0.0166, Acc: 75.41%\n",
      "\n",
      " [=============================>]  Step: 161ms | Tot: 6s557ms | Train Epoch: 48, Loss: 0.000002, Acc: 99.99 391/391 \n",
      "\n",
      "Test Loss: 0.0164, Acc: 75.38%\n",
      "\n",
      " [=============================>]  Step: 168ms | Tot: 6s663ms | Train Epoch: 49, Loss: 0.000001, Acc: 100.00 391/391 \n",
      "\n",
      "Test Loss: 0.0166, Acc: 75.25%\n",
      "\n",
      " [=============================>]  Step: 161ms | Tot: 6s551ms | Train Epoch: 50, Loss: 0.000001, Acc: 100.00 391/391 \n",
      "\n",
      "Test Loss: 0.0165, Acc: 75.68%\n",
      "\n",
      " [=============================>]  Step: 162ms | Tot: 6s738ms | Train Epoch: 51, Loss: 0.000001, Acc: 100.00 391/391 1/39 351/391 \n",
      "\n",
      "Test Loss: 0.0165, Acc: 75.45%\n",
      "\n",
      " [=============================>]  Step: 163ms | Tot: 6s686ms | Train Epoch: 52, Loss: 0.000001, Acc: 100.00 391/391 \n",
      "\n",
      "Test Loss: 0.0165, Acc: 75.72%\n",
      "\n",
      " [=============================>]  Step: 164ms | Tot: 6s636ms | Train Epoch: 53, Loss: 0.000001, Acc: 100.00 391/391 \n",
      "\n",
      "Test Loss: 0.0169, Acc: 75.69%\n",
      "\n",
      " [=============================>]  Step: 162ms | Tot: 6s736ms | Train Epoch: 54, Loss: 0.000001, Acc: 100.00 391/391 \n",
      "\n",
      "Test Loss: 0.0169, Acc: 75.81%\n",
      "\n"
     ]
    },
    {
     "name": "stdout",
     "output_type": "stream",
     "text": [
      " [=============================>]  Step: 162ms | Tot: 6s611ms | Train Epoch: 55, Loss: 0.000002, Acc: 100.00 391/391 \n",
      "\n",
      "Test Loss: 0.0170, Acc: 74.90%\n",
      "\n",
      " [=============================>]  Step: 161ms | Tot: 6s582ms | Train Epoch: 56, Loss: 0.000001, Acc: 100.00 391/391 \n",
      "\n",
      "Test Loss: 0.0169, Acc: 75.62%\n",
      "\n",
      " [=============================>]  Step: 162ms | Tot: 6s704ms | Train Epoch: 57, Loss: 0.000001, Acc: 100.00 391/391 \n",
      "\n",
      "Test Loss: 0.0171, Acc: 75.43%\n",
      "\n",
      " [=============================>]  Step: 166ms | Tot: 6s589ms | Train Epoch: 58, Loss: 0.000001, Acc: 100.00 391/391 \n",
      "\n",
      "Test Loss: 0.0167, Acc: 75.49%\n",
      "\n",
      " [=============================>]  Step: 162ms | Tot: 6s641ms | Train Epoch: 59, Loss: 0.000001, Acc: 100.00 391/391 \n",
      "\n",
      "Test Loss: 0.0172, Acc: 75.37%\n",
      "\n",
      " [=============================>]  Step: 163ms | Tot: 6s594ms | Train Epoch: 60, Loss: 0.000001, Acc: 100.00 391/391 \n",
      "\n",
      "Test Loss: 0.0170, Acc: 75.45%\n",
      "\n",
      " [=============================>]  Step: 166ms | Tot: 6s562ms | Train Epoch: 61, Loss: 0.000001, Acc: 100.00 391/391 \n",
      "\n",
      "Test Loss: 0.0171, Acc: 75.40%\n",
      "\n",
      " [=============================>]  Step: 162ms | Tot: 6s655ms | Train Epoch: 62, Loss: 0.000000, Acc: 100.00 391/391 \n",
      "\n",
      "Test Loss: 0.0171, Acc: 75.59%\n",
      "\n",
      " [=============================>]  Step: 161ms | Tot: 6s607ms | Train Epoch: 63, Loss: 0.000001, Acc: 100.00 391/391 \n",
      "\n",
      "Test Loss: 0.0170, Acc: 75.50%\n",
      "\n",
      " [=============================>]  Step: 162ms | Tot: 6s673ms | Train Epoch: 64, Loss: 0.000000, Acc: 100.00 391/391 \n",
      "\n",
      "Test Loss: 0.0171, Acc: 75.69%\n",
      "\n",
      " [=============================>]  Step: 162ms | Tot: 6s584ms | Train Epoch: 65, Loss: 0.000001, Acc: 100.00 391/391 \n",
      "\n",
      "Test Loss: 0.0171, Acc: 75.66%\n",
      "\n",
      " [=============================>]  Step: 163ms | Tot: 6s565ms | Train Epoch: 66, Loss: 0.000000, Acc: 100.00 391/391 \n",
      "\n",
      "Test Loss: 0.0171, Acc: 75.45%\n",
      "\n",
      " [=============================>]  Step: 163ms | Tot: 6s661ms | Train Epoch: 67, Loss: 0.000000, Acc: 100.00 391/391 \n",
      "\n",
      "Test Loss: 0.0171, Acc: 75.63%\n",
      "\n",
      " [=============================>]  Step: 162ms | Tot: 6s556ms | Train Epoch: 68, Loss: 0.000000, Acc: 100.00 391/391 \n",
      "\n",
      "Test Loss: 0.0172, Acc: 75.72%\n",
      "\n",
      " [=============================>]  Step: 162ms | Tot: 6s629ms | Train Epoch: 69, Loss: 0.000000, Acc: 100.00 391/391 \n",
      "\n",
      "Test Loss: 0.0170, Acc: 75.61%\n",
      "\n",
      " [=============================>]  Step: 162ms | Tot: 6s669ms | Train Epoch: 70, Loss: 0.000000, Acc: 100.00 391/391 \n",
      "\n",
      "Test Loss: 0.0175, Acc: 75.73%\n",
      "\n",
      " [=============================>]  Step: 163ms | Tot: 6s662ms | Train Epoch: 71, Loss: 0.000000, Acc: 100.00 391/391 \n",
      "\n",
      "Test Loss: 0.0172, Acc: 75.54%\n",
      "\n",
      " [=============================>]  Step: 165ms | Tot: 6s648ms | Train Epoch: 72, Loss: 0.000000, Acc: 100.00 391/391 \n",
      "\n",
      "Test Loss: 0.0170, Acc: 75.70%\n",
      "\n",
      " [=============================>]  Step: 163ms | Tot: 6s636ms | Train Epoch: 73, Loss: 0.000000, Acc: 100.00 391/391 \n",
      "\n",
      "Test Loss: 0.0173, Acc: 75.73%\n",
      "\n",
      " [=============================>]  Step: 163ms | Tot: 6s588ms | Train Epoch: 74, Loss: 0.000000, Acc: 100.00 391/391 \n",
      "\n",
      "Test Loss: 0.0172, Acc: 75.78%\n",
      "\n",
      " [=============================>]  Step: 163ms | Tot: 6s710ms | Train Epoch: 75, Loss: 0.000000, Acc: 100.00 391/391 \n",
      "\n",
      "Test Loss: 0.0171, Acc: 75.57%\n",
      "\n",
      " [=============================>]  Step: 164ms | Tot: 6s688ms | Train Epoch: 76, Loss: 0.000000, Acc: 100.00 391/391 \n",
      "\n",
      "Test Loss: 0.0172, Acc: 75.79%\n",
      "\n",
      " [=============================>]  Step: 163ms | Tot: 6s629ms | Train Epoch: 77, Loss: 0.000000, Acc: 100.00 391/391 \n",
      "\n",
      "Test Loss: 0.0172, Acc: 75.71%\n",
      "\n",
      " [=============================>]  Step: 163ms | Tot: 6s585ms | Train Epoch: 78, Loss: 0.000000, Acc: 100.00 391/391 \n",
      "\n",
      "Test Loss: 0.0172, Acc: 75.69%\n",
      "\n",
      " [=============================>]  Step: 163ms | Tot: 6s652ms | Train Epoch: 79, Loss: 0.000000, Acc: 100.00 391/391 \n",
      "\n",
      "Test Loss: 0.0173, Acc: 75.70%\n",
      "\n",
      " [=============================>]  Step: 162ms | Tot: 6s714ms | Train Epoch: 80, Loss: 0.000000, Acc: 100.00 391/391 \n",
      "\n",
      "Test Loss: 0.0173, Acc: 75.79%\n",
      "\n",
      " [=============================>]  Step: 167ms | Tot: 6s603ms | Train Epoch: 81, Loss: 0.000000, Acc: 100.00 391/391 \n",
      "\n",
      "Test Loss: 0.0172, Acc: 75.60%\n",
      "\n",
      " [=============================>]  Step: 164ms | Tot: 6s636ms | Train Epoch: 82, Loss: 0.000000, Acc: 100.00 391/391 \n",
      "\n",
      "Test Loss: 0.0172, Acc: 75.63%\n",
      "\n",
      " [=============================>]  Step: 162ms | Tot: 6s611ms | Train Epoch: 83, Loss: 0.000000, Acc: 100.00 391/391 \n",
      "\n",
      "Test Loss: 0.0172, Acc: 75.69%\n",
      "\n",
      " [=============================>]  Step: 168ms | Tot: 6s686ms | Train Epoch: 84, Loss: 0.000000, Acc: 100.00 391/391 \n",
      "\n",
      "Test Loss: 0.0172, Acc: 75.79%\n",
      "\n",
      " [=============================>]  Step: 162ms | Tot: 6s943ms | Train Epoch: 85, Loss: 0.000000, Acc: 100.00 391/391 \n",
      "\n",
      "Test Loss: 0.0174, Acc: 75.69%\n",
      "\n",
      " [=============================>]  Step: 162ms | Tot: 6s583ms | Train Epoch: 86, Loss: 0.000000, Acc: 100.00 391/391 \n",
      "\n",
      "Test Loss: 0.0172, Acc: 75.78%\n",
      "\n",
      " [=============================>]  Step: 160ms | Tot: 6s592ms | Train Epoch: 87, Loss: 0.000000, Acc: 100.00 391/391 \n",
      "\n",
      "Test Loss: 0.0171, Acc: 75.72%\n",
      "\n",
      " [=============================>]  Step: 168ms | Tot: 6s580ms | Train Epoch: 88, Loss: 0.000000, Acc: 100.00 391/391 \n",
      "\n",
      "Test Loss: 0.0172, Acc: 75.83%\n",
      "\n",
      " [=============================>]  Step: 165ms | Tot: 6s603ms | Train Epoch: 89, Loss: 0.000000, Acc: 100.00 391/391 \n",
      "\n",
      "Test Loss: 0.0171, Acc: 75.61%\n",
      "\n",
      " [=============================>]  Step: 165ms | Tot: 6s621ms | Train Epoch: 90, Loss: 0.000000, Acc: 100.00 391/391 \n",
      "\n",
      "Test Loss: 0.0173, Acc: 75.87%\n",
      "\n",
      " [=============================>]  Step: 164ms | Tot: 6s581ms | Train Epoch: 91, Loss: 0.000000, Acc: 100.00 391/391 \n",
      "\n",
      "Test Loss: 0.0172, Acc: 75.59%\n",
      "\n",
      " [=============================>]  Step: 161ms | Tot: 6s630ms | Train Epoch: 92, Loss: 0.000000, Acc: 100.00 391/391 \n",
      "\n",
      "Test Loss: 0.0172, Acc: 75.81%\n",
      "\n",
      " [=============================>]  Step: 168ms | Tot: 6s685ms | Train Epoch: 93, Loss: 0.000000, Acc: 100.00 391/391 \n",
      "\n",
      "Test Loss: 0.0172, Acc: 75.73%\n",
      "\n",
      " [=============================>]  Step: 164ms | Tot: 6s594ms | Train Epoch: 94, Loss: 0.000000, Acc: 100.00 391/391 \n",
      "\n",
      "Test Loss: 0.0174, Acc: 75.74%\n",
      "\n",
      " [=============================>]  Step: 164ms | Tot: 6s617ms | Train Epoch: 95, Loss: 0.000000, Acc: 100.00 391/391 \n",
      "\n",
      "Test Loss: 0.0172, Acc: 75.68%\n",
      "\n",
      " [=============================>]  Step: 160ms | Tot: 6s684ms | Train Epoch: 96, Loss: 0.000000, Acc: 100.00 391/391 \n",
      "\n",
      "Test Loss: 0.0173, Acc: 75.73%\n",
      "\n",
      " [=============================>]  Step: 165ms | Tot: 6s641ms | Train Epoch: 97, Loss: 0.000000, Acc: 100.00 391/391 \n",
      "\n",
      "Test Loss: 0.0173, Acc: 75.71%\n",
      "\n",
      " [=============================>]  Step: 162ms | Tot: 6s629ms | Train Epoch: 98, Loss: 0.000000, Acc: 100.00 391/391 \n",
      "\n",
      "Test Loss: 0.0172, Acc: 75.66%\n",
      "\n",
      " [=============================>]  Step: 162ms | Tot: 6s572ms | Train Epoch: 99, Loss: 0.000000, Acc: 100.00 391/391 \n",
      "\n",
      "Test Loss: 0.0171, Acc: 75.66%\n",
      "\n",
      " [=============================>]  Step: 161ms | Tot: 6s646ms | Train Epoch: 100, Loss: 0.000000, Acc: 100.00 391/391 \n",
      "\n",
      "Test Loss: 0.0172, Acc: 75.79%\n",
      "\n",
      "Elapsed time: 0:13:17.525729\n",
      "cat vs.  cat\n",
      "ship vs.  ship\n",
      "ship vs.  ship\n",
      "airplane vs.  airplane\n",
      "frog vs.  frog\n",
      "frog vs.  frog\n",
      "automobile vs.  cat\n",
      "frog vs.  frog\n",
      "\n"
     ]
    },
    {
     "data": {
      "text/html": [
       "Waiting for W&B process to finish... <strong style=\"color:green\">(success).</strong>"
      ],
      "text/plain": [
       "<IPython.core.display.HTML object>"
      ]
     },
     "metadata": {},
     "output_type": "display_data"
    },
    {
     "data": {
      "application/vnd.jupyter.widget-view+json": {
       "model_id": "",
       "version_major": 2,
       "version_minor": 0
      },
      "text/plain": [
       "VBox(children=(Label(value='0.134 MB of 0.134 MB uploaded (0.000 MB deduped)\\r'), FloatProgress(value=1.0, max…"
      ]
     },
     "metadata": {},
     "output_type": "display_data"
    },
    {
     "data": {
      "text/html": [
       "<style>\n",
       "    table.wandb td:nth-child(1) { padding: 0 10px; text-align: right }\n",
       "    .wandb-row { display: flex; flex-direction: row; flex-wrap: wrap; width: 100% }\n",
       "    .wandb-col { display: flex; flex-direction: column; flex-basis: 100%; flex: 1; padding: 10px; }\n",
       "    </style>\n",
       "<div class=\"wandb-row\"><div class=\"wandb-col\"><h3>Run history:</h3><br/><table class=\"wandb\"><tr><td>Learning rate</td><td>████████▇▇▇▇▇▆▆▆▆▅▅▅▄▄▄▄▃▃▃▃▂▂▂▂▂▁▁▁▁▁▁▁</td></tr><tr><td>Test accuracy</td><td>▁▃▅▆▆▆▆▇▇▇▇█▆███████████████████████████</td></tr><tr><td>Test loss</td><td>▄▃▂▁▂▃▃▄▄▅▄▅█▅▆▆▆▆▆▆▆▇▇▇▇▇▇▇▇▇▇▇▇▇▇▇▇▇▇▇</td></tr><tr><td>Train accuracy</td><td>▁▄▆▆▇▇██████████████████████████████████</td></tr><tr><td>Train loss</td><td>█▅▃▃▂▂▁▁▁▁▁▁▁▁▁▁▁▁▁▁▁▁▁▁▁▁▁▁▁▁▁▁▁▁▁▁▁▁▁▁</td></tr></table><br/></div><div class=\"wandb-col\"><h3>Run summary:</h3><br/><table class=\"wandb\"><tr><td>Best accuracy</td><td>75.87</td></tr><tr><td>Elapsed train time</td><td>0:13:17.525729</td></tr><tr><td>Learning rate</td><td>2e-05</td></tr><tr><td>Test accuracy</td><td>75.79</td></tr><tr><td>Test loss</td><td>0.01724</td></tr><tr><td>Train accuracy</td><td>100.0</td></tr><tr><td>Train loss</td><td>0.0</td></tr></table><br/></div></div>"
      ],
      "text/plain": [
       "<IPython.core.display.HTML object>"
      ]
     },
     "metadata": {},
     "output_type": "display_data"
    },
    {
     "data": {
      "text/html": [
       "Synced <strong style=\"color:#cdcd00\">fresh-dream-1</strong>: <a href=\"https://wandb.ai/upeee/wandb-project/runs/1qh54rl2\" target=\"_blank\">https://wandb.ai/upeee/wandb-project/runs/1qh54rl2</a><br/>Synced 7 W&B file(s), 1 media file(s), 12 artifact file(s) and 1 other file(s)"
      ],
      "text/plain": [
       "<IPython.core.display.HTML object>"
      ]
     },
     "metadata": {},
     "output_type": "display_data"
    },
    {
     "data": {
      "text/html": [
       "Find logs at: <code>./wandb/run-20220310_194407-1qh54rl2/logs</code>"
      ],
      "text/plain": [
       "<IPython.core.display.HTML object>"
      ]
     },
     "metadata": {},
     "output_type": "display_data"
    }
   ],
   "source": [
    "run.display(height=1000)\n",
    "\n",
    "start_time = datetime.datetime.now()\n",
    "best_acc = 0\n",
    "for epoch in range(wandb.config[\"epochs\"]):\n",
    "    train_acc, train_loss = train(epoch)\n",
    "    test_acc, test_loss = test()\n",
    "    if test_acc > best_acc:\n",
    "        wandb.run.summary[\"Best accuracy\"] = test_acc\n",
    "        best_acc = test_acc\n",
    "        torch.save(model, \"resnet18_best_acc.pth\")\n",
    "    wandb.log({\n",
    "        \"Train accuracy\": train_acc,\n",
    "        \"Test accuracy\": test_acc,\n",
    "        \"Train loss\": train_loss,\n",
    "        \"Test loss\": test_loss,\n",
    "        \"Learning rate\": optimizer.param_groups[0]['lr']\n",
    "    })\n",
    "\n",
    "elapsed_time = datetime.datetime.now() - start_time\n",
    "print(\"Elapsed time: %s\" % elapsed_time)\n",
    "wandb.run.summary[\"Elapsed train time\"] = str(elapsed_time)\n",
    "\n",
    "with torch.no_grad():\n",
    "  pred = torch.argmax(model(image.to(device)), dim=1).cpu().numpy()\n",
    "\n",
    "final_pred = []\n",
    "for i in range(8):\n",
    "    final_pred.append(label_human[pred[i]])\n",
    "    print(label_human[label[i]], \"vs. \",  final_pred[i])\n",
    "\n",
    "table_test.add_column(name=\"Final Pred Label\", data=final_pred)\n",
    "\n",
    "wandb.log({\"Test data\": table_test})\n",
    "\n",
    "wandb.finish()"
   ]
  },
  {
   "cell_type": "code",
   "execution_count": null,
   "metadata": {},
   "outputs": [],
   "source": []
  }
 ],
 "metadata": {
  "interpreter": {
   "hash": "52772734322c44a04e342c358be70f2ff4d97da358cb3cd38ceb0f6066598be5"
  },
  "kernelspec": {
   "display_name": "Python 3 (ipykernel)",
   "language": "python",
   "name": "python3"
  },
  "language_info": {
   "codemirror_mode": {
    "name": "ipython",
    "version": 3
   },
   "file_extension": ".py",
   "mimetype": "text/x-python",
   "name": "python",
   "nbconvert_exporter": "python",
   "pygments_lexer": "ipython3",
   "version": "3.7.3"
  }
 },
 "nbformat": 4,
 "nbformat_minor": 2
}
